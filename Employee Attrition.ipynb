{
 "cells": [
  {
   "cell_type": "code",
   "execution_count": 4,
   "metadata": {},
   "outputs": [],
   "source": [
    "import numpy as np \n",
    "import pandas as pd \n",
    "import matplotlib.pyplot as plt\n",
    "import seaborn as sns\n",
    "import warnings\n",
    "warnings.filterwarnings('ignore')\n",
    "from sklearn.model_selection import train_test_split\n",
    "from sklearn.metrics import confusion_matrix, classification_report,accuracy_score, roc_auc_score,roc_curve,f1_score\n",
    "from sklearn.linear_model import LogisticRegression"
   ]
  },
  {
   "cell_type": "markdown",
   "metadata": {},
   "source": [
    "# 1. Load Data"
   ]
  },
  {
   "cell_type": "code",
   "execution_count": 5,
   "metadata": {},
   "outputs": [
    {
     "name": "stdout",
     "output_type": "stream",
     "text": [
      "<class 'pandas.core.frame.DataFrame'>\n",
      "RangeIndex: 14999 entries, 0 to 14998\n",
      "Data columns (total 10 columns):\n",
      "satisfaction_level       14999 non-null float64\n",
      "last_evaluation          14999 non-null float64\n",
      "number_project           14999 non-null int64\n",
      "average_montly_hours     14999 non-null int64\n",
      "time_spend_company       14999 non-null int64\n",
      "Work_accident            14999 non-null int64\n",
      "left                     14999 non-null int64\n",
      "promotion_last_5years    14999 non-null int64\n",
      "sales                    14999 non-null object\n",
      "salary                   14999 non-null object\n",
      "dtypes: float64(2), int64(6), object(2)\n",
      "memory usage: 1.1+ MB\n"
     ]
    }
   ],
   "source": [
    "employee = pd.read_csv('./Employee_data.csv')\n",
    "employee.info()"
   ]
  },
  {
   "cell_type": "code",
   "execution_count": 6,
   "metadata": {},
   "outputs": [
    {
     "data": {
      "text/html": [
       "<div>\n",
       "<style scoped>\n",
       "    .dataframe tbody tr th:only-of-type {\n",
       "        vertical-align: middle;\n",
       "    }\n",
       "\n",
       "    .dataframe tbody tr th {\n",
       "        vertical-align: top;\n",
       "    }\n",
       "\n",
       "    .dataframe thead th {\n",
       "        text-align: right;\n",
       "    }\n",
       "</style>\n",
       "<table border=\"1\" class=\"dataframe\">\n",
       "  <thead>\n",
       "    <tr style=\"text-align: right;\">\n",
       "      <th></th>\n",
       "      <th>satisfaction_level</th>\n",
       "      <th>last_evaluation</th>\n",
       "      <th>number_project</th>\n",
       "      <th>average_montly_hours</th>\n",
       "      <th>time_spend_company</th>\n",
       "      <th>Work_accident</th>\n",
       "      <th>left</th>\n",
       "      <th>promotion_last_5years</th>\n",
       "      <th>sales</th>\n",
       "      <th>salary</th>\n",
       "    </tr>\n",
       "  </thead>\n",
       "  <tbody>\n",
       "    <tr>\n",
       "      <th>0</th>\n",
       "      <td>0.38</td>\n",
       "      <td>0.53</td>\n",
       "      <td>2</td>\n",
       "      <td>157</td>\n",
       "      <td>3</td>\n",
       "      <td>0</td>\n",
       "      <td>1</td>\n",
       "      <td>0</td>\n",
       "      <td>sales</td>\n",
       "      <td>low</td>\n",
       "    </tr>\n",
       "    <tr>\n",
       "      <th>1</th>\n",
       "      <td>0.80</td>\n",
       "      <td>0.86</td>\n",
       "      <td>5</td>\n",
       "      <td>262</td>\n",
       "      <td>6</td>\n",
       "      <td>0</td>\n",
       "      <td>1</td>\n",
       "      <td>0</td>\n",
       "      <td>sales</td>\n",
       "      <td>medium</td>\n",
       "    </tr>\n",
       "    <tr>\n",
       "      <th>2</th>\n",
       "      <td>0.11</td>\n",
       "      <td>0.88</td>\n",
       "      <td>7</td>\n",
       "      <td>272</td>\n",
       "      <td>4</td>\n",
       "      <td>0</td>\n",
       "      <td>1</td>\n",
       "      <td>0</td>\n",
       "      <td>sales</td>\n",
       "      <td>medium</td>\n",
       "    </tr>\n",
       "    <tr>\n",
       "      <th>3</th>\n",
       "      <td>0.72</td>\n",
       "      <td>0.87</td>\n",
       "      <td>5</td>\n",
       "      <td>223</td>\n",
       "      <td>5</td>\n",
       "      <td>0</td>\n",
       "      <td>1</td>\n",
       "      <td>0</td>\n",
       "      <td>sales</td>\n",
       "      <td>low</td>\n",
       "    </tr>\n",
       "    <tr>\n",
       "      <th>4</th>\n",
       "      <td>0.37</td>\n",
       "      <td>0.52</td>\n",
       "      <td>2</td>\n",
       "      <td>159</td>\n",
       "      <td>3</td>\n",
       "      <td>0</td>\n",
       "      <td>1</td>\n",
       "      <td>0</td>\n",
       "      <td>sales</td>\n",
       "      <td>low</td>\n",
       "    </tr>\n",
       "  </tbody>\n",
       "</table>\n",
       "</div>"
      ],
      "text/plain": [
       "   satisfaction_level  last_evaluation  number_project  average_montly_hours  \\\n",
       "0                0.38             0.53               2                   157   \n",
       "1                0.80             0.86               5                   262   \n",
       "2                0.11             0.88               7                   272   \n",
       "3                0.72             0.87               5                   223   \n",
       "4                0.37             0.52               2                   159   \n",
       "\n",
       "   time_spend_company  Work_accident  left  promotion_last_5years  sales  \\\n",
       "0                   3              0     1                      0  sales   \n",
       "1                   6              0     1                      0  sales   \n",
       "2                   4              0     1                      0  sales   \n",
       "3                   5              0     1                      0  sales   \n",
       "4                   3              0     1                      0  sales   \n",
       "\n",
       "   salary  \n",
       "0     low  \n",
       "1  medium  \n",
       "2  medium  \n",
       "3     low  \n",
       "4     low  "
      ]
     },
     "execution_count": 6,
     "metadata": {},
     "output_type": "execute_result"
    }
   ],
   "source": [
    "employee.head()"
   ]
  },
  {
   "cell_type": "code",
   "execution_count": 7,
   "metadata": {},
   "outputs": [
    {
     "name": "stdout",
     "output_type": "stream",
     "text": [
      "<class 'pandas.core.frame.DataFrame'>\n",
      "RangeIndex: 14999 entries, 0 to 14998\n",
      "Data columns (total 10 columns):\n",
      "satisfaction_level       14999 non-null float64\n",
      "last_evaluation          14999 non-null float64\n",
      "number_project           14999 non-null int64\n",
      "average_montly_hours     14999 non-null int64\n",
      "time_spend_company       14999 non-null int64\n",
      "Work_accident            14999 non-null int64\n",
      "left                     14999 non-null int64\n",
      "promotion_last_5years    14999 non-null int64\n",
      "department               14999 non-null object\n",
      "salary                   14999 non-null object\n",
      "dtypes: float64(2), int64(6), object(2)\n",
      "memory usage: 1.1+ MB\n"
     ]
    }
   ],
   "source": [
    "employee.rename(columns= {\"sales\": \"department\"},inplace = True)\n",
    "employee.info()"
   ]
  },
  {
   "cell_type": "code",
   "execution_count": 8,
   "metadata": {},
   "outputs": [
    {
     "data": {
      "text/html": [
       "<div>\n",
       "<style scoped>\n",
       "    .dataframe tbody tr th:only-of-type {\n",
       "        vertical-align: middle;\n",
       "    }\n",
       "\n",
       "    .dataframe tbody tr th {\n",
       "        vertical-align: top;\n",
       "    }\n",
       "\n",
       "    .dataframe thead th {\n",
       "        text-align: right;\n",
       "    }\n",
       "</style>\n",
       "<table border=\"1\" class=\"dataframe\">\n",
       "  <thead>\n",
       "    <tr style=\"text-align: right;\">\n",
       "      <th></th>\n",
       "      <th>satisfaction_level</th>\n",
       "      <th>last_evaluation</th>\n",
       "      <th>number_project</th>\n",
       "      <th>average_montly_hours</th>\n",
       "      <th>time_spend_company</th>\n",
       "      <th>Work_accident</th>\n",
       "      <th>left</th>\n",
       "      <th>promotion_last_5years</th>\n",
       "    </tr>\n",
       "  </thead>\n",
       "  <tbody>\n",
       "    <tr>\n",
       "      <th>count</th>\n",
       "      <td>14999.000000</td>\n",
       "      <td>14999.000000</td>\n",
       "      <td>14999.000000</td>\n",
       "      <td>14999.000000</td>\n",
       "      <td>14999.000000</td>\n",
       "      <td>14999.000000</td>\n",
       "      <td>14999.000000</td>\n",
       "      <td>14999.000000</td>\n",
       "    </tr>\n",
       "    <tr>\n",
       "      <th>mean</th>\n",
       "      <td>0.612834</td>\n",
       "      <td>0.716102</td>\n",
       "      <td>3.803054</td>\n",
       "      <td>201.050337</td>\n",
       "      <td>3.498233</td>\n",
       "      <td>0.144610</td>\n",
       "      <td>0.238083</td>\n",
       "      <td>0.021268</td>\n",
       "    </tr>\n",
       "    <tr>\n",
       "      <th>std</th>\n",
       "      <td>0.248631</td>\n",
       "      <td>0.171169</td>\n",
       "      <td>1.232592</td>\n",
       "      <td>49.943099</td>\n",
       "      <td>1.460136</td>\n",
       "      <td>0.351719</td>\n",
       "      <td>0.425924</td>\n",
       "      <td>0.144281</td>\n",
       "    </tr>\n",
       "    <tr>\n",
       "      <th>min</th>\n",
       "      <td>0.090000</td>\n",
       "      <td>0.360000</td>\n",
       "      <td>2.000000</td>\n",
       "      <td>96.000000</td>\n",
       "      <td>2.000000</td>\n",
       "      <td>0.000000</td>\n",
       "      <td>0.000000</td>\n",
       "      <td>0.000000</td>\n",
       "    </tr>\n",
       "    <tr>\n",
       "      <th>25%</th>\n",
       "      <td>0.440000</td>\n",
       "      <td>0.560000</td>\n",
       "      <td>3.000000</td>\n",
       "      <td>156.000000</td>\n",
       "      <td>3.000000</td>\n",
       "      <td>0.000000</td>\n",
       "      <td>0.000000</td>\n",
       "      <td>0.000000</td>\n",
       "    </tr>\n",
       "    <tr>\n",
       "      <th>50%</th>\n",
       "      <td>0.640000</td>\n",
       "      <td>0.720000</td>\n",
       "      <td>4.000000</td>\n",
       "      <td>200.000000</td>\n",
       "      <td>3.000000</td>\n",
       "      <td>0.000000</td>\n",
       "      <td>0.000000</td>\n",
       "      <td>0.000000</td>\n",
       "    </tr>\n",
       "    <tr>\n",
       "      <th>75%</th>\n",
       "      <td>0.820000</td>\n",
       "      <td>0.870000</td>\n",
       "      <td>5.000000</td>\n",
       "      <td>245.000000</td>\n",
       "      <td>4.000000</td>\n",
       "      <td>0.000000</td>\n",
       "      <td>0.000000</td>\n",
       "      <td>0.000000</td>\n",
       "    </tr>\n",
       "    <tr>\n",
       "      <th>max</th>\n",
       "      <td>1.000000</td>\n",
       "      <td>1.000000</td>\n",
       "      <td>7.000000</td>\n",
       "      <td>310.000000</td>\n",
       "      <td>10.000000</td>\n",
       "      <td>1.000000</td>\n",
       "      <td>1.000000</td>\n",
       "      <td>1.000000</td>\n",
       "    </tr>\n",
       "  </tbody>\n",
       "</table>\n",
       "</div>"
      ],
      "text/plain": [
       "       satisfaction_level  last_evaluation  number_project  \\\n",
       "count        14999.000000     14999.000000    14999.000000   \n",
       "mean             0.612834         0.716102        3.803054   \n",
       "std              0.248631         0.171169        1.232592   \n",
       "min              0.090000         0.360000        2.000000   \n",
       "25%              0.440000         0.560000        3.000000   \n",
       "50%              0.640000         0.720000        4.000000   \n",
       "75%              0.820000         0.870000        5.000000   \n",
       "max              1.000000         1.000000        7.000000   \n",
       "\n",
       "       average_montly_hours  time_spend_company  Work_accident          left  \\\n",
       "count          14999.000000        14999.000000   14999.000000  14999.000000   \n",
       "mean             201.050337            3.498233       0.144610      0.238083   \n",
       "std               49.943099            1.460136       0.351719      0.425924   \n",
       "min               96.000000            2.000000       0.000000      0.000000   \n",
       "25%              156.000000            3.000000       0.000000      0.000000   \n",
       "50%              200.000000            3.000000       0.000000      0.000000   \n",
       "75%              245.000000            4.000000       0.000000      0.000000   \n",
       "max              310.000000           10.000000       1.000000      1.000000   \n",
       "\n",
       "       promotion_last_5years  \n",
       "count           14999.000000  \n",
       "mean                0.021268  \n",
       "std                 0.144281  \n",
       "min                 0.000000  \n",
       "25%                 0.000000  \n",
       "50%                 0.000000  \n",
       "75%                 0.000000  \n",
       "max                 1.000000  "
      ]
     },
     "execution_count": 8,
     "metadata": {},
     "output_type": "execute_result"
    }
   ],
   "source": [
    "employee.describe()"
   ]
  },
  {
   "cell_type": "markdown",
   "metadata": {},
   "source": [
    "# 2. Data Visualization"
   ]
  },
  {
   "cell_type": "code",
   "execution_count": 9,
   "metadata": {},
   "outputs": [
    {
     "data": {
      "text/plain": [
       "<matplotlib.axes._subplots.AxesSubplot at 0x2587ee69550>"
      ]
     },
     "execution_count": 9,
     "metadata": {},
     "output_type": "execute_result"
    },
    {
     "data": {
      "image/png": "[encoded data removed]",
      "text/plain": [
       "<Figure size 432x288 with 1 Axes>"
      ]
     },
     "metadata": {
      "needs_background": "light"
     },
     "output_type": "display_data"
    }
   ],
   "source": [
    "sns.countplot(x=\"left\",data=employee)"
   ]
  },
  {
   "cell_type": "code",
   "execution_count": 10,
   "metadata": {},
   "outputs": [
    {
     "data": {
      "text/plain": [
       "0    0.761917\n",
       "1    0.238083\n",
       "Name: left, dtype: float64"
      ]
     },
     "execution_count": 10,
     "metadata": {},
     "output_type": "execute_result"
    }
   ],
   "source": [
    "employee.left.value_counts()/len(employee.left)"
   ]
  },
  {
   "cell_type": "markdown",
   "metadata": {},
   "source": [
    " 76% stayed and only 24% left"
   ]
  },
  {
   "cell_type": "code",
   "execution_count": 11,
   "metadata": {},
   "outputs": [
    {
     "data": {
      "text/plain": [
       "<matplotlib.axes._subplots.AxesSubplot at 0x2587ef87908>"
      ]
     },
     "execution_count": 11,
     "metadata": {},
     "output_type": "execute_result"
    },
    {
     "data": {
      "image/png": "[encoded data removed]",
      "text/plain": [
       "<Figure size 432x288 with 1 Axes>"
      ]
     },
     "metadata": {
      "needs_background": "light"
     },
     "output_type": "display_data"
    }
   ],
   "source": [
    "((employee.department.value_counts()/len(employee.department))*100).plot(kind='barh')"
   ]
  },
  {
   "cell_type": "markdown",
   "metadata": {},
   "source": [
    "More than 25% are in sales department, followed by approx 18% in technical."
   ]
  },
  {
   "cell_type": "code",
   "execution_count": 12,
   "metadata": {},
   "outputs": [
    {
     "data": {
      "text/plain": [
       "<matplotlib.axes._subplots.AxesSubplot at 0x2587f01a080>"
      ]
     },
     "execution_count": 12,
     "metadata": {},
     "output_type": "execute_result"
    },
    {
     "data": {
      "image/png": "[encoded data removed]",
      "text/plain": [
       "<Figure size 1440x504 with 1 Axes>"
      ]
     },
     "metadata": {
      "needs_background": "light"
     },
     "output_type": "display_data"
    }
   ],
   "source": [
    "plt.figure(figsize=(20,7))\n",
    "((employee.satisfaction_level.value_counts().sort_index()/len(employee.satisfaction_level))*100).plot(kind='bar')"
   ]
  },
  {
   "cell_type": "markdown",
   "metadata": {},
   "source": [
    "Highest percent is 2.4% for 0.10, second highest is 2.3% approx for 0.11"
   ]
  },
  {
   "cell_type": "code",
   "execution_count": 13,
   "metadata": {},
   "outputs": [
    {
     "data": {
      "text/plain": [
       "<matplotlib.axes._subplots.AxesSubplot at 0x2587f56b828>"
      ]
     },
     "execution_count": 13,
     "metadata": {},
     "output_type": "execute_result"
    },
    {
     "data": {
      "image/png": "[encoded data removed]",
      "text/plain": [
       "<Figure size 360x360 with 1 Axes>"
      ]
     },
     "metadata": {
      "needs_background": "light"
     },
     "output_type": "display_data"
    }
   ],
   "source": [
    "plt.figure(figsize=(5,5))\n",
    "((employee.salary.value_counts().sort_index()/len(employee.salary))*100).plot(kind='bar')"
   ]
  },
  {
   "cell_type": "markdown",
   "metadata": {},
   "source": [
    "Most of them are in low and medium income group. Less than 10% are in high."
   ]
  },
  {
   "cell_type": "code",
   "execution_count": 14,
   "metadata": {},
   "outputs": [
    {
     "data": {
      "text/plain": [
       "<matplotlib.axes._subplots.AxesSubplot at 0x2587f56b710>"
      ]
     },
     "execution_count": 14,
     "metadata": {},
     "output_type": "execute_result"
    },
    {
     "data": {
      "image/png": "[encoded data removed]",
      "text/plain": [
       "<Figure size 1440x504 with 1 Axes>"
      ]
     },
     "metadata": {
      "needs_background": "light"
     },
     "output_type": "display_data"
    }
   ],
   "source": [
    "plt.figure(figsize=(20,7))\n",
    "((employee.last_evaluation.value_counts().sort_index()/len(employee.last_evaluation))*100).plot(kind='bar')"
   ]
  },
  {
   "cell_type": "code",
   "execution_count": 15,
   "metadata": {},
   "outputs": [
    {
     "data": {
      "text/plain": [
       "<matplotlib.axes._subplots.AxesSubplot at 0x2587f3816d8>"
      ]
     },
     "execution_count": 15,
     "metadata": {},
     "output_type": "execute_result"
    },
    {
     "data": {
      "image/png": "[encoded data removed]",
      "text/plain": [
       "<Figure size 360x360 with 1 Axes>"
      ]
     },
     "metadata": {
      "needs_background": "light"
     },
     "output_type": "display_data"
    }
   ],
   "source": [
    "plt.figure(figsize=(5,5))\n",
    "((employee.number_project.value_counts().sort_index()/len(employee.number_project))*100).plot(kind='bar')"
   ]
  },
  {
   "cell_type": "code",
   "execution_count": 16,
   "metadata": {},
   "outputs": [
    {
     "data": {
      "text/plain": [
       "<matplotlib.axes._subplots.AxesSubplot at 0x2587f3edb70>"
      ]
     },
     "execution_count": 16,
     "metadata": {},
     "output_type": "execute_result"
    },
    {
     "data": {
      "image/png": "[encoded data removed]",
      "text/plain": [
       "<Figure size 4320x1080 with 1 Axes>"
      ]
     },
     "metadata": {
      "needs_background": "light"
     },
     "output_type": "display_data"
    }
   ],
   "source": [
    "plt.figure(figsize=(60,15))\n",
    "((employee.average_montly_hours.value_counts().sort_index()/len(employee.average_montly_hours))*100).plot(kind='bar')"
   ]
  },
  {
   "cell_type": "code",
   "execution_count": 17,
   "metadata": {},
   "outputs": [
    {
     "data": {
      "text/plain": [
       "<matplotlib.axes._subplots.AxesSubplot at 0x2587f8c4fd0>"
      ]
     },
     "execution_count": 17,
     "metadata": {},
     "output_type": "execute_result"
    },
    {
     "data": {
      "image/png": "[encoded data removed]",
      "text/plain": [
       "<Figure size 360x360 with 1 Axes>"
      ]
     },
     "metadata": {
      "needs_background": "light"
     },
     "output_type": "display_data"
    }
   ],
   "source": [
    "plt.figure(figsize=(5,5))\n",
    "((employee.time_spend_company.value_counts().sort_index()/len(employee.time_spend_company))*100).plot(kind='bar')"
   ]
  },
  {
   "cell_type": "code",
   "execution_count": 18,
   "metadata": {},
   "outputs": [
    {
     "data": {
      "text/plain": [
       "<matplotlib.axes._subplots.AxesSubplot at 0x2587fded9e8>"
      ]
     },
     "execution_count": 18,
     "metadata": {},
     "output_type": "execute_result"
    },
    {
     "data": {
      "image/png": "[encoded data removed]",
      "text/plain": [
       "<Figure size 360x360 with 1 Axes>"
      ]
     },
     "metadata": {
      "needs_background": "light"
     },
     "output_type": "display_data"
    }
   ],
   "source": [
    "plt.figure(figsize=(5,5))\n",
    "((employee.Work_accident.value_counts().sort_index()/len(employee.Work_accident))*100).plot(kind='bar')"
   ]
  },
  {
   "cell_type": "markdown",
   "metadata": {},
   "source": [
    "1 = Work Accident"
   ]
  },
  {
   "cell_type": "code",
   "execution_count": 19,
   "metadata": {},
   "outputs": [
    {
     "data": {
      "text/plain": [
       "<matplotlib.axes._subplots.AxesSubplot at 0x2580102bac8>"
      ]
     },
     "execution_count": 19,
     "metadata": {},
     "output_type": "execute_result"
    },
    {
     "data": {
      "image/png": "[encoded data removed]",
      "text/plain": [
       "<Figure size 360x360 with 1 Axes>"
      ]
     },
     "metadata": {
      "needs_background": "light"
     },
     "output_type": "display_data"
    }
   ],
   "source": [
    "plt.figure(figsize=(5,5))\n",
    "((employee.promotion_last_5years.value_counts().sort_index()/len(employee.promotion_last_5years))*100).plot(kind='bar')"
   ]
  },
  {
   "cell_type": "markdown",
   "metadata": {},
   "source": [
    "Percent left and stayed based on satisfaction level"
   ]
  },
  {
   "cell_type": "code",
   "execution_count": 20,
   "metadata": {},
   "outputs": [],
   "source": [
    "# ax = pd.Series((employee[employee.left==0].satisfaction_level.value_counts()/len(employee.left))*100).sort_index().plot(kind='bar',color='g',figsize=(20,7))\n",
    "# pd.Series((employee[employee.left==1].satisfaction_level.value_counts()/len(employee.left))*100).sort_index().plot(kind='bar',color='r',alpha= 0.7,figsize=(20,7), ax=ax)\n",
    "# ax.legend([\"Stayed\", \"Left\"])"
   ]
  },
  {
   "cell_type": "code",
   "execution_count": 21,
   "metadata": {},
   "outputs": [
    {
     "data": {
      "text/plain": [
       "<matplotlib.legend.Legend at 0x25801250080>"
      ]
     },
     "execution_count": 21,
     "metadata": {},
     "output_type": "execute_result"
    },
    {
     "data": {
      "image/png": "[encoded data removed]",
      "text/plain": [
       "<Figure size 1440x504 with 1 Axes>"
      ]
     },
     "metadata": {
      "needs_background": "light"
     },
     "output_type": "display_data"
    }
   ],
   "source": [
    "employee.satisfaction_level = employee.satisfaction_level.astype('category')\n",
    "ax = pd.Series((employee[employee.left==0].satisfaction_level.value_counts()/len(employee.left))*100).sort_index().plot(kind='bar',color='y',figsize=(20,7))\n",
    "pd.Series((employee[employee.left==1].satisfaction_level.value_counts()/len(employee.left))*100).sort_index().plot(kind='bar',color='black',alpha= 0.6,figsize=(20,7), ax=ax)\n",
    "ax.legend([\"Stayed\", \"Left\"])"
   ]
  },
  {
   "cell_type": "markdown",
   "metadata": {},
   "source": [
    "All the employees who voted below 0.12 have left the company, no surprise there, but majority of employees who voted 0.12 to 0.35 have stayed on while who have voted 0.36 - 0.46 have left. \n",
    "Leaving percentage is consistently low afterward, till 0.71. \n",
    "None of the employees who voted beyond 0.93 have left the company. The relation is obviously not linear; Logistic Regression might perform poorly here unless we include some polynomial degrees."
   ]
  },
  {
   "cell_type": "code",
   "execution_count": 22,
   "metadata": {},
   "outputs": [
    {
     "data": {
      "text/plain": [
       "<matplotlib.legend.Legend at 0x2587f3b1828>"
      ]
     },
     "execution_count": 22,
     "metadata": {},
     "output_type": "execute_result"
    },
    {
     "data": {
      "image/png": "[encoded data removed]",
      "text/plain": [
       "<Figure size 1440x504 with 1 Axes>"
      ]
     },
     "metadata": {
      "needs_background": "light"
     },
     "output_type": "display_data"
    }
   ],
   "source": [
    "plt.figure(figsize=(20,7))\n",
    "((employee[employee.left==1].last_evaluation.value_counts().sort_index()/len(employee.left))*100).plot(kind='bar',color='black')\n",
    "((employee[employee.left==0].last_evaluation.value_counts().sort_index()/len(employee.left))*100).plot(kind='bar',color='y',alpha=0.5)\n",
    "plt.legend([\"Left\", \"Stayed\"])"
   ]
  },
  {
   "cell_type": "code",
   "execution_count": 23,
   "metadata": {},
   "outputs": [
    {
     "data": {
      "text/plain": [
       "<matplotlib.axes._subplots.AxesSubplot at 0x258015269b0>"
      ]
     },
     "execution_count": 23,
     "metadata": {},
     "output_type": "execute_result"
    },
    {
     "data": {
      "image/png": "[encoded data removed]",
      "text/plain": [
       "<Figure size 2880x1080 with 1 Axes>"
      ]
     },
     "metadata": {
      "needs_background": "light"
     },
     "output_type": "display_data"
    }
   ],
   "source": [
    "plt.figure(figsize=(40,15))\n",
    "((employee[employee.left==1].average_montly_hours.value_counts().sort_index()/len(employee.left))*100).plot(kind='bar',color='black')\n",
    "((employee[employee.left==0].average_montly_hours.value_counts().sort_index()/len(employee.left))*100).plot(kind='bar',color='y',alpha=0.4)"
   ]
  },
  {
   "cell_type": "code",
   "execution_count": 24,
   "metadata": {},
   "outputs": [
    {
     "data": {
      "text/plain": [
       "<matplotlib.axes._subplots.AxesSubplot at 0x25801ed3588>"
      ]
     },
     "execution_count": 24,
     "metadata": {},
     "output_type": "execute_result"
    },
    {
     "data": {
      "image/png": "[encoded data removed]",
      "text/plain": [
       "<Figure size 360x144 with 1 Axes>"
      ]
     },
     "metadata": {
      "needs_background": "light"
     },
     "output_type": "display_data"
    }
   ],
   "source": [
    "plt.figure(figsize=(5,2))\n",
    "((employee[employee.left==1].number_project.value_counts().sort_index()/len(employee.left))*100).plot(kind='bar',color='black')\n",
    "((employee[employee.left==0].number_project.value_counts().sort_index()/len(employee.left))*100).plot(kind='bar',color='y', alpha = 0.5)\n"
   ]
  },
  {
   "cell_type": "code",
   "execution_count": 25,
   "metadata": {},
   "outputs": [
    {
     "data": {
      "text/plain": [
       "<matplotlib.axes._subplots.AxesSubplot at 0x25802014be0>"
      ]
     },
     "execution_count": 25,
     "metadata": {},
     "output_type": "execute_result"
    },
    {
     "data": {
      "image/png": "[encoded data removed]",
      "text/plain": [
       "<Figure size 720x360 with 1 Axes>"
      ]
     },
     "metadata": {
      "needs_background": "light"
     },
     "output_type": "display_data"
    }
   ],
   "source": [
    "plt.figure(figsize=(10,5))\n",
    "((employee[employee.left==1].time_spend_company.value_counts().sort_index()/len(employee.left))*100).plot(kind='bar',color='black')\n",
    "((employee[employee.left==0].time_spend_company.value_counts().sort_index()/len(employee.left))*100).plot(kind='bar',color='y',alpha=0.5)"
   ]
  },
  {
   "cell_type": "code",
   "execution_count": 26,
   "metadata": {},
   "outputs": [
    {
     "data": {
      "text/plain": [
       "<matplotlib.axes._subplots.AxesSubplot at 0x258020baf60>"
      ]
     },
     "execution_count": 26,
     "metadata": {},
     "output_type": "execute_result"
    },
    {
     "data": {
      "image/png": "[encoded data removed]",
      "text/plain": [
       "<Figure size 360x216 with 1 Axes>"
      ]
     },
     "metadata": {
      "needs_background": "light"
     },
     "output_type": "display_data"
    }
   ],
   "source": [
    "plt.figure(figsize=(5,3))\n",
    "((employee[employee.left==1].Work_accident.value_counts().sort_index()/len(employee.left))*100).plot(kind='bar',color='black')\n",
    "((employee[employee.left==0].Work_accident.value_counts().sort_index()/len(employee.left))*100).plot(kind='bar',color='y',alpha=0.5)"
   ]
  },
  {
   "cell_type": "code",
   "execution_count": 27,
   "metadata": {},
   "outputs": [
    {
     "data": {
      "text/plain": [
       "<matplotlib.axes._subplots.AxesSubplot at 0x258020ea080>"
      ]
     },
     "execution_count": 27,
     "metadata": {},
     "output_type": "execute_result"
    },
    {
     "data": {
      "image/png": "[encoded data removed]",
      "text/plain": [
       "<Figure size 360x216 with 1 Axes>"
      ]
     },
     "metadata": {
      "needs_background": "light"
     },
     "output_type": "display_data"
    }
   ],
   "source": [
    "plt.figure(figsize=(5,3))\n",
    "((employee[employee.left==1].promotion_last_5years.value_counts().sort_index()/len(employee.left))*100).plot(kind='bar',color='black')\n",
    "((employee[employee.left==0].promotion_last_5years.value_counts().sort_index()/len(employee.left))*100).plot(kind='bar',color='y',alpha=0.5)"
   ]
  },
  {
   "cell_type": "code",
   "execution_count": 28,
   "metadata": {},
   "outputs": [
    {
     "data": {
      "text/plain": [
       "<matplotlib.axes._subplots.AxesSubplot at 0x258020cf6a0>"
      ]
     },
     "execution_count": 28,
     "metadata": {},
     "output_type": "execute_result"
    },
    {
     "data": {
      "image/png": "[encoded data removed]",
      "text/plain": [
       "<Figure size 360x216 with 1 Axes>"
      ]
     },
     "metadata": {
      "needs_background": "light"
     },
     "output_type": "display_data"
    }
   ],
   "source": [
    "plt.figure(figsize=(5,3))\n",
    "((employee[employee.left==1].department.value_counts()/len(employee.left))*100).plot(kind='bar',color='black')\n",
    "((employee[employee.left==0].department.value_counts()/len(employee.left))*100).plot(kind='bar',color='y',alpha=0.5)"
   ]
  },
  {
   "cell_type": "code",
   "execution_count": 29,
   "metadata": {},
   "outputs": [
    {
     "data": {
      "text/plain": [
       "<matplotlib.legend.Legend at 0x25802dd05c0>"
      ]
     },
     "execution_count": 29,
     "metadata": {},
     "output_type": "execute_result"
    },
    {
     "data": {
      "image/png": "[encoded data removed]",
      "text/plain": [
       "<Figure size 360x360 with 1 Axes>"
      ]
     },
     "metadata": {
      "needs_background": "light"
     },
     "output_type": "display_data"
    }
   ],
   "source": [
    "plt.figure(figsize=(5,5))\n",
    "ax = ((employee[employee.left==0].salary.value_counts().sort_index()/len(employee.left))*100).plot(kind='bar',color='y',alpha = 0.5)\n",
    "((employee[employee.left==1].salary.value_counts().sort_index()/len(employee.left)*100)).plot(kind='bar',color='black', ax= ax)\n",
    "ax.legend([\"Stayed\", \"Left\"])"
   ]
  },
  {
   "cell_type": "markdown",
   "metadata": {},
   "source": [
    "# 3. Feature Engineering"
   ]
  },
  {
   "cell_type": "markdown",
   "metadata": {},
   "source": [
    "###  Label encoding salary column because low < medium < high"
   ]
  },
  {
   "cell_type": "code",
   "execution_count": 30,
   "metadata": {},
   "outputs": [],
   "source": [
    "salary_dict = {\"low\": 0, \"medium\": 1, \"high\": 2}\n",
    "employee['sal_numeric'] = employee['salary'].map(salary_dict)\n",
    "employee.drop('salary', inplace=True, axis=1)"
   ]
  },
  {
   "cell_type": "markdown",
   "metadata": {},
   "source": [
    "### Onehot encoding for department"
   ]
  },
  {
   "cell_type": "code",
   "execution_count": 31,
   "metadata": {},
   "outputs": [],
   "source": [
    "employee = pd.concat([employee, pd.get_dummies(employee['department'],prefix='dept', prefix_sep='_')], axis=1)\n",
    "employee.drop('department', inplace=True, axis=1)"
   ]
  },
  {
   "cell_type": "markdown",
   "metadata": {},
   "source": [
    "### Features based on vizualization"
   ]
  },
  {
   "cell_type": "code",
   "execution_count": 32,
   "metadata": {},
   "outputs": [],
   "source": [
    "y = employee.left.values\n",
    "employee.drop('left', inplace=True, axis=1)\n",
    "employee_new = employee.copy()"
   ]
  },
  {
   "cell_type": "markdown",
   "metadata": {},
   "source": [
    "Time Spent Encoding"
   ]
  },
  {
   "cell_type": "code",
   "execution_count": 33,
   "metadata": {},
   "outputs": [],
   "source": [
    "time_spend_comp_dict = { 2: \"low\", 3 : \"medium\", 4 : \"medium\", 6 : \"medium\", 5: \"high\", 7: \"very low\", 8: \"very low\", 10: \"very low\"}\n",
    "employee_new['time_spend_company_cat'] = employee_new['time_spend_company'].map(time_spend_comp_dict)\n",
    "employee_new = pd.concat([employee_new, pd.get_dummies(employee_new['time_spend_company_cat'],prefix='tsc', prefix_sep='_')], axis=1)\n",
    "employee_new.drop('time_spend_company_cat', inplace=True, axis=1)\n",
    "employee_new.drop('time_spend_company', inplace=True, axis=1)"
   ]
  },
  {
   "cell_type": "markdown",
   "metadata": {},
   "source": [
    "Number Project Encoding"
   ]
  },
  {
   "cell_type": "code",
   "execution_count": 34,
   "metadata": {},
   "outputs": [],
   "source": [
    "number_project_dict = { 3: \"low\", 4 : \"medium\", 5 : \"medium\",  2: \"high\", 6: \"high\", 7: \"Very high\"}\n",
    "employee_new['number_project_cat'] = employee_new['number_project'].map(number_project_dict)\n",
    "employee_new = pd.concat([employee_new, pd.get_dummies(employee_new['number_project_cat'],prefix='np', prefix_sep='_')], axis=1)\n",
    "employee_new.drop('number_project_cat', inplace=True, axis=1)\n",
    "employee_new.drop('number_project', inplace=True, axis=1)"
   ]
  },
  {
   "cell_type": "markdown",
   "metadata": {},
   "source": [
    "Bins"
   ]
  },
  {
   "cell_type": "markdown",
   "metadata": {},
   "source": [
    "Satisfaction Level"
   ]
  },
  {
   "cell_type": "code",
   "execution_count": 35,
   "metadata": {},
   "outputs": [],
   "source": [
    "bins = [0, 0.11, 0.35, 0.46, 0.71, 0.92,1.0]\n",
    "employee_new['satisfaction_level_bin'] = pd.cut(employee_new.satisfaction_level,bins)\n",
    "employee_new = pd.concat([employee_new, pd.get_dummies(employee_new['satisfaction_level_bin'],prefix='sts', prefix_sep='_')], axis=1)\n",
    "employee_new.drop('satisfaction_level', inplace=True, axis=1)\n",
    "employee_new.drop('satisfaction_level_bin', inplace=True, axis=1)"
   ]
  },
  {
   "cell_type": "markdown",
   "metadata": {},
   "source": [
    "Last Evaluation"
   ]
  },
  {
   "cell_type": "code",
   "execution_count": 36,
   "metadata": {},
   "outputs": [],
   "source": [
    "bins = [0, 0.47, 0.48, 0.65, 0.88, 0.89,1.0]\n",
    "employee_new['last_evaluation_bin'] = pd.cut(employee_new.last_evaluation,bins)\n",
    "employee_new = pd.concat([employee_new, pd.get_dummies(employee_new['last_evaluation_bin'],prefix='le', prefix_sep='_')], axis=1)\n",
    "employee_new.drop('last_evaluation_bin', inplace=True, axis=1)\n",
    "employee_new.drop('last_evaluation', inplace=True, axis=1)"
   ]
  },
  {
   "cell_type": "markdown",
   "metadata": {},
   "source": [
    "Average Monthly"
   ]
  },
  {
   "cell_type": "code",
   "execution_count": 37,
   "metadata": {},
   "outputs": [],
   "source": [
    "bins = [96, 131, 165, 178, 179, 259, 287]\n",
    "employee_new['average_montly_hours_bin'] = pd.cut(employee_new.average_montly_hours,bins)\n",
    "employee_new = pd.concat([employee_new, pd.get_dummies(employee_new['average_montly_hours_bin'],prefix='am', prefix_sep='_')], axis=1)\n",
    "employee_new.drop('average_montly_hours_bin', inplace=True, axis=1)\n",
    "employee_new.drop('average_montly_hours', inplace=True, axis=1)"
   ]
  },
  {
   "cell_type": "code",
   "execution_count": 38,
   "metadata": {},
   "outputs": [
    {
     "name": "stdout",
     "output_type": "stream",
     "text": [
      "<class 'pandas.core.frame.DataFrame'>\n",
      "RangeIndex: 14999 entries, 0 to 14998\n",
      "Data columns (total 39 columns):\n",
      "Work_accident            14999 non-null int64\n",
      "promotion_last_5years    14999 non-null int64\n",
      "sal_numeric              14999 non-null int64\n",
      "dept_IT                  14999 non-null uint8\n",
      "dept_RandD               14999 non-null uint8\n",
      "dept_accounting          14999 non-null uint8\n",
      "dept_hr                  14999 non-null uint8\n",
      "dept_management          14999 non-null uint8\n",
      "dept_marketing           14999 non-null uint8\n",
      "dept_product_mng         14999 non-null uint8\n",
      "dept_sales               14999 non-null uint8\n",
      "dept_support             14999 non-null uint8\n",
      "dept_technical           14999 non-null uint8\n",
      "tsc_high                 14999 non-null uint8\n",
      "tsc_low                  14999 non-null uint8\n",
      "tsc_medium               14999 non-null uint8\n",
      "tsc_very low             14999 non-null uint8\n",
      "np_Very high             14999 non-null uint8\n",
      "np_high                  14999 non-null uint8\n",
      "np_low                   14999 non-null uint8\n",
      "np_medium                14999 non-null uint8\n",
      "sts_(0.0, 0.11]          14999 non-null uint8\n",
      "sts_(0.11, 0.35]         14999 non-null uint8\n",
      "sts_(0.35, 0.46]         14999 non-null uint8\n",
      "sts_(0.46, 0.71]         14999 non-null uint8\n",
      "sts_(0.71, 0.92]         14999 non-null uint8\n",
      "sts_(0.92, 1.0]          14999 non-null uint8\n",
      "le_(0.0, 0.47]           14999 non-null uint8\n",
      "le_(0.47, 0.48]          14999 non-null uint8\n",
      "le_(0.48, 0.65]          14999 non-null uint8\n",
      "le_(0.65, 0.88]          14999 non-null uint8\n",
      "le_(0.88, 0.89]          14999 non-null uint8\n",
      "le_(0.89, 1.0]           14999 non-null uint8\n",
      "am_(96, 131]             14999 non-null uint8\n",
      "am_(131, 165]            14999 non-null uint8\n",
      "am_(165, 178]            14999 non-null uint8\n",
      "am_(178, 179]            14999 non-null uint8\n",
      "am_(179, 259]            14999 non-null uint8\n",
      "am_(259, 287]            14999 non-null uint8\n",
      "dtypes: int64(3), uint8(36)\n",
      "memory usage: 878.9 KB\n"
     ]
    }
   ],
   "source": [
    "employee_new.info()"
   ]
  },
  {
   "cell_type": "code",
   "execution_count": 39,
   "metadata": {},
   "outputs": [
    {
     "data": {
      "text/html": [
       "<div>\n",
       "<style scoped>\n",
       "    .dataframe tbody tr th:only-of-type {\n",
       "        vertical-align: middle;\n",
       "    }\n",
       "\n",
       "    .dataframe tbody tr th {\n",
       "        vertical-align: top;\n",
       "    }\n",
       "\n",
       "    .dataframe thead th {\n",
       "        text-align: right;\n",
       "    }\n",
       "</style>\n",
       "<table border=\"1\" class=\"dataframe\">\n",
       "  <thead>\n",
       "    <tr style=\"text-align: right;\">\n",
       "      <th></th>\n",
       "      <th>Work_accident</th>\n",
       "      <th>promotion_last_5years</th>\n",
       "      <th>sal_numeric</th>\n",
       "      <th>dept_IT</th>\n",
       "      <th>dept_RandD</th>\n",
       "      <th>dept_accounting</th>\n",
       "      <th>dept_hr</th>\n",
       "      <th>dept_management</th>\n",
       "      <th>dept_marketing</th>\n",
       "      <th>dept_product_mng</th>\n",
       "      <th>...</th>\n",
       "      <th>le_(0.48, 0.65]</th>\n",
       "      <th>le_(0.65, 0.88]</th>\n",
       "      <th>le_(0.88, 0.89]</th>\n",
       "      <th>le_(0.89, 1.0]</th>\n",
       "      <th>am_(96, 131]</th>\n",
       "      <th>am_(131, 165]</th>\n",
       "      <th>am_(165, 178]</th>\n",
       "      <th>am_(178, 179]</th>\n",
       "      <th>am_(179, 259]</th>\n",
       "      <th>am_(259, 287]</th>\n",
       "    </tr>\n",
       "  </thead>\n",
       "  <tbody>\n",
       "    <tr>\n",
       "      <th>0</th>\n",
       "      <td>0</td>\n",
       "      <td>0</td>\n",
       "      <td>0</td>\n",
       "      <td>0</td>\n",
       "      <td>0</td>\n",
       "      <td>0</td>\n",
       "      <td>0</td>\n",
       "      <td>0</td>\n",
       "      <td>0</td>\n",
       "      <td>0</td>\n",
       "      <td>...</td>\n",
       "      <td>1</td>\n",
       "      <td>0</td>\n",
       "      <td>0</td>\n",
       "      <td>0</td>\n",
       "      <td>0</td>\n",
       "      <td>1</td>\n",
       "      <td>0</td>\n",
       "      <td>0</td>\n",
       "      <td>0</td>\n",
       "      <td>0</td>\n",
       "    </tr>\n",
       "    <tr>\n",
       "      <th>1</th>\n",
       "      <td>0</td>\n",
       "      <td>0</td>\n",
       "      <td>1</td>\n",
       "      <td>0</td>\n",
       "      <td>0</td>\n",
       "      <td>0</td>\n",
       "      <td>0</td>\n",
       "      <td>0</td>\n",
       "      <td>0</td>\n",
       "      <td>0</td>\n",
       "      <td>...</td>\n",
       "      <td>0</td>\n",
       "      <td>1</td>\n",
       "      <td>0</td>\n",
       "      <td>0</td>\n",
       "      <td>0</td>\n",
       "      <td>0</td>\n",
       "      <td>0</td>\n",
       "      <td>0</td>\n",
       "      <td>0</td>\n",
       "      <td>1</td>\n",
       "    </tr>\n",
       "    <tr>\n",
       "      <th>2</th>\n",
       "      <td>0</td>\n",
       "      <td>0</td>\n",
       "      <td>1</td>\n",
       "      <td>0</td>\n",
       "      <td>0</td>\n",
       "      <td>0</td>\n",
       "      <td>0</td>\n",
       "      <td>0</td>\n",
       "      <td>0</td>\n",
       "      <td>0</td>\n",
       "      <td>...</td>\n",
       "      <td>0</td>\n",
       "      <td>1</td>\n",
       "      <td>0</td>\n",
       "      <td>0</td>\n",
       "      <td>0</td>\n",
       "      <td>0</td>\n",
       "      <td>0</td>\n",
       "      <td>0</td>\n",
       "      <td>0</td>\n",
       "      <td>1</td>\n",
       "    </tr>\n",
       "    <tr>\n",
       "      <th>3</th>\n",
       "      <td>0</td>\n",
       "      <td>0</td>\n",
       "      <td>0</td>\n",
       "      <td>0</td>\n",
       "      <td>0</td>\n",
       "      <td>0</td>\n",
       "      <td>0</td>\n",
       "      <td>0</td>\n",
       "      <td>0</td>\n",
       "      <td>0</td>\n",
       "      <td>...</td>\n",
       "      <td>0</td>\n",
       "      <td>1</td>\n",
       "      <td>0</td>\n",
       "      <td>0</td>\n",
       "      <td>0</td>\n",
       "      <td>0</td>\n",
       "      <td>0</td>\n",
       "      <td>0</td>\n",
       "      <td>1</td>\n",
       "      <td>0</td>\n",
       "    </tr>\n",
       "    <tr>\n",
       "      <th>4</th>\n",
       "      <td>0</td>\n",
       "      <td>0</td>\n",
       "      <td>0</td>\n",
       "      <td>0</td>\n",
       "      <td>0</td>\n",
       "      <td>0</td>\n",
       "      <td>0</td>\n",
       "      <td>0</td>\n",
       "      <td>0</td>\n",
       "      <td>0</td>\n",
       "      <td>...</td>\n",
       "      <td>1</td>\n",
       "      <td>0</td>\n",
       "      <td>0</td>\n",
       "      <td>0</td>\n",
       "      <td>0</td>\n",
       "      <td>1</td>\n",
       "      <td>0</td>\n",
       "      <td>0</td>\n",
       "      <td>0</td>\n",
       "      <td>0</td>\n",
       "    </tr>\n",
       "  </tbody>\n",
       "</table>\n",
       "<p>5 rows × 39 columns</p>\n",
       "</div>"
      ],
      "text/plain": [
       "   Work_accident  promotion_last_5years  sal_numeric  dept_IT  dept_RandD  \\\n",
       "0              0                      0            0        0           0   \n",
       "1              0                      0            1        0           0   \n",
       "2              0                      0            1        0           0   \n",
       "3              0                      0            0        0           0   \n",
       "4              0                      0            0        0           0   \n",
       "\n",
       "   dept_accounting  dept_hr  dept_management  dept_marketing  \\\n",
       "0                0        0                0               0   \n",
       "1                0        0                0               0   \n",
       "2                0        0                0               0   \n",
       "3                0        0                0               0   \n",
       "4                0        0                0               0   \n",
       "\n",
       "   dept_product_mng  ...  le_(0.48, 0.65]  le_(0.65, 0.88]  le_(0.88, 0.89]  \\\n",
       "0                 0  ...                1                0                0   \n",
       "1                 0  ...                0                1                0   \n",
       "2                 0  ...                0                1                0   \n",
       "3                 0  ...                0                1                0   \n",
       "4                 0  ...                1                0                0   \n",
       "\n",
       "   le_(0.89, 1.0]  am_(96, 131]  am_(131, 165]  am_(165, 178]  am_(178, 179]  \\\n",
       "0               0             0              1              0              0   \n",
       "1               0             0              0              0              0   \n",
       "2               0             0              0              0              0   \n",
       "3               0             0              0              0              0   \n",
       "4               0             0              1              0              0   \n",
       "\n",
       "   am_(179, 259]  am_(259, 287]  \n",
       "0              0              0  \n",
       "1              0              1  \n",
       "2              0              1  \n",
       "3              1              0  \n",
       "4              0              0  \n",
       "\n",
       "[5 rows x 39 columns]"
      ]
     },
     "execution_count": 39,
     "metadata": {},
     "output_type": "execute_result"
    }
   ],
   "source": [
    "employee_new.head()"
   ]
  },
  {
   "cell_type": "markdown",
   "metadata": {},
   "source": [
    "# 4. Models"
   ]
  },
  {
   "cell_type": "code",
   "execution_count": 40,
   "metadata": {},
   "outputs": [],
   "source": [
    "conf_mat = dict()\n",
    "fpr = dict()\n",
    "tpr = dict()\n",
    "roc_auc = dict()\n",
    "accuracy = dict()\n",
    "f1 = dict()"
   ]
  },
  {
   "cell_type": "code",
   "execution_count": 41,
   "metadata": {},
   "outputs": [],
   "source": [
    "from sklearn.pipeline import Pipeline\n",
    "from sklearn.preprocessing import StandardScaler\n",
    "num_pipeline = Pipeline([('std_scalar', StandardScaler())])"
   ]
  },
  {
   "cell_type": "code",
   "execution_count": 105,
   "metadata": {},
   "outputs": [
    {
     "data": {
      "text/plain": [
       "((8999, 18), (6000,))"
      ]
     },
     "execution_count": 105,
     "metadata": {},
     "output_type": "execute_result"
    }
   ],
   "source": [
    "# Original Data\n",
    "\n",
    "X_train_1, X_test_1, y_train_1, y_test_1 = train_test_split(employee, y,test_size=0.4, random_state = 43)\n",
    "X_train_1 = num_pipeline.fit_transform(X_train_1)\n",
    "X_test_1 = num_pipeline.transform(X_test_1)\n",
    "X_train_1.shape, y_test_1.shape"
   ]
  },
  {
   "cell_type": "code",
   "execution_count": 43,
   "metadata": {},
   "outputs": [],
   "source": [
    "# New Data\n",
    "\n",
    "X_train, X_test, y_train, y_test = train_test_split(employee_new, y, test_size=0.4, random_state = 43)\n",
    "X_train_tr = num_pipeline.fit_transform(X_train)\n",
    "X_test_tr = num_pipeline.transform(X_test)"
   ]
  },
  {
   "cell_type": "code",
   "execution_count": 44,
   "metadata": {},
   "outputs": [],
   "source": [
    "# New Data + Polynomial degree\n",
    "\n",
    "from sklearn.preprocessing import PolynomialFeatures\n",
    "pol = PolynomialFeatures(2)\n",
    "X_train_pol, X_test_pol, y_train_pol, y_test_pol = train_test_split(pol.fit_transform(employee_new.values), y, test_size=0.4, random_state=43)\n",
    "X_train_pol = num_pipeline.fit_transform(X_train_pol)\n",
    "X_test_pol = num_pipeline.transform(X_test_pol)"
   ]
  },
  {
   "cell_type": "markdown",
   "metadata": {},
   "source": [
    "## 4.1 Linear Models"
   ]
  },
  {
   "cell_type": "markdown",
   "metadata": {},
   "source": [
    "## 4.1.1 Logistic Regression on original data"
   ]
  },
  {
   "cell_type": "code",
   "execution_count": 45,
   "metadata": {},
   "outputs": [],
   "source": [
    "lr = LogisticRegression()\n",
    "lr.fit(X_train_1,y_train_1)\n",
    "lr_pred_orig = lr.predict_proba(X_test_1)"
   ]
  },
  {
   "cell_type": "code",
   "execution_count": 46,
   "metadata": {},
   "outputs": [
    {
     "name": "stdout",
     "output_type": "stream",
     "text": [
      "[0.00000000e+00 2.18245308e-04 6.54735923e-04 ... 9.98908773e-01\n",
      " 9.99345264e-01 1.00000000e+00]\n",
      "[0. 0. 0. ... 1. 1. 1.]\n",
      "0.8242717409572875\n",
      "0.7865\n",
      "0.4293986636971047\n",
      "[[4237  345]\n",
      " [ 936  482]]\n",
      "[[4237  345]\n",
      " [ 936  482]]\n",
      "              precision    recall  f1-score   support\n",
      "\n",
      "           0       0.82      0.92      0.87      4582\n",
      "           1       0.58      0.34      0.43      1418\n",
      "\n",
      "    accuracy                           0.79      6000\n",
      "   macro avg       0.70      0.63      0.65      6000\n",
      "weighted avg       0.76      0.79      0.76      6000\n",
      "\n"
     ]
    }
   ],
   "source": [
    "fpr['LR Without FE'], tpr['LR Without FE'], threshold = roc_curve(y_test_1, lr_pred_orig[:,1])\n",
    "roc_auc['LR Without FE'] = roc_auc_score(y_test_1, lr_pred_orig[:,1])\n",
    "accuracy['LR Without FE'] = accuracy_score(y_test_1, np.argmax(lr_pred_orig,axis = 1))\n",
    "f1['LR Without FE'] = f1_score(y_test_1, np.argmax(lr_pred_orig,axis = 1))\n",
    "conf_mat['LR Without FE'] = confusion_matrix(y_test_1, np.argmax(lr_pred_orig,axis = 1))\n",
    "print(fpr['LR Without FE'])\n",
    "print(tpr['LR Without FE'])\n",
    "print(roc_auc['LR Without FE'])\n",
    "print(accuracy['LR Without FE'])\n",
    "print(f1['LR Without FE'])\n",
    "print(conf_mat['LR Without FE'])\n",
    "print(confusion_matrix(y_test_1, np.argmax(lr_pred_orig,axis = 1)))\n",
    "print(classification_report(y_test_1, np.argmax(lr_pred_orig,axis = 1)))"
   ]
  },
  {
   "cell_type": "code",
   "execution_count": 47,
   "metadata": {},
   "outputs": [
    {
     "data": {
      "text/plain": [
       "Text(0.5, 15.0, 'Predicted label')"
      ]
     },
     "execution_count": 47,
     "metadata": {},
     "output_type": "execute_result"
    },
    {
     "data": {
      "image/png": "[encoded data removed]",
      "text/plain": [
       "<Figure size 432x288 with 2 Axes>"
      ]
     },
     "metadata": {
      "needs_background": "light"
     },
     "output_type": "display_data"
    }
   ],
   "source": [
    "sns.heatmap(confusion_matrix(y_test_1, np.argmax(lr_pred_orig,axis = 1)),annot = True, fmt = 'g')\n",
    "plt.ylabel('True label')\n",
    "plt.xlabel('Predicted label')"
   ]
  },
  {
   "cell_type": "markdown",
   "metadata": {},
   "source": [
    "## 4.1.2 Logistic regression on new data"
   ]
  },
  {
   "cell_type": "code",
   "execution_count": 48,
   "metadata": {},
   "outputs": [],
   "source": [
    "lr_new = LogisticRegression()\n",
    "lr_new.fit(X_train,y_train)\n",
    "lr_pred_new = lr_new.predict_proba(X_test)"
   ]
  },
  {
   "cell_type": "code",
   "execution_count": 49,
   "metadata": {},
   "outputs": [
    {
     "name": "stdout",
     "output_type": "stream",
     "text": [
      "[0.         0.         0.         ... 0.99847228 0.99890877 1.        ]\n",
      "[0.         0.00141044 0.00282087 ... 1.         1.         1.        ]\n",
      "0.9669693884021551\n",
      "0.9451666666666667\n",
      "0.8820365722481176\n",
      "[[4441  141]\n",
      " [ 188 1230]]\n",
      "[[4441  141]\n",
      " [ 188 1230]]\n",
      "              precision    recall  f1-score   support\n",
      "\n",
      "           0       0.96      0.97      0.96      4582\n",
      "           1       0.90      0.87      0.88      1418\n",
      "\n",
      "    accuracy                           0.95      6000\n",
      "   macro avg       0.93      0.92      0.92      6000\n",
      "weighted avg       0.94      0.95      0.94      6000\n",
      "\n"
     ]
    }
   ],
   "source": [
    "fpr['LR With FE'], tpr['LR With FE'], threshold = roc_curve(y_test, lr_pred_new[:,1])\n",
    "roc_auc['LR With FE'] = roc_auc_score(y_test, lr_pred_new[:,1])\n",
    "accuracy['LR With FE'] = accuracy_score(y_test, np.argmax(lr_pred_new,axis = 1))\n",
    "f1['LR With FE'] = f1_score(y_test, np.argmax(lr_pred_new,axis = 1))\n",
    "conf_mat['LR With FE'] = confusion_matrix(y_test, np.argmax(lr_pred_new,axis = 1))\n",
    "print(fpr['LR With FE'])\n",
    "print(tpr['LR With FE'])\n",
    "print(roc_auc['LR With FE'])\n",
    "print(accuracy['LR With FE'])\n",
    "print(f1['LR With FE'])\n",
    "print(conf_mat['LR With FE'])\n",
    "print(confusion_matrix(y_test, np.argmax(lr_pred_new,axis = 1)))\n",
    "print(classification_report(y_test, np.argmax(lr_pred_new,axis = 1)))"
   ]
  },
  {
   "cell_type": "code",
   "execution_count": 50,
   "metadata": {},
   "outputs": [
    {
     "data": {
      "text/plain": [
       "Text(0.5, 15.0, 'Predicted label')"
      ]
     },
     "execution_count": 50,
     "metadata": {},
     "output_type": "execute_result"
    },
    {
     "data": {
      "image/png": "[encoded data removed]",
      "text/plain": [
       "<Figure size 432x288 with 2 Axes>"
      ]
     },
     "metadata": {
      "needs_background": "light"
     },
     "output_type": "display_data"
    }
   ],
   "source": [
    "sns.heatmap(confusion_matrix(y_test, np.argmax(lr_pred_new,axis = 1)),annot = True, fmt = 'g')\n",
    "plt.ylabel('True label')\n",
    "plt.xlabel('Predicted label')"
   ]
  },
  {
   "cell_type": "markdown",
   "metadata": {},
   "source": [
    "## 4.1.3 Logistic Regression after adding Polynomial features"
   ]
  },
  {
   "cell_type": "code",
   "execution_count": 51,
   "metadata": {},
   "outputs": [],
   "source": [
    "lr_pol = LogisticRegression()\n",
    "lr_pol.fit(X_train_pol,y_train_pol)\n",
    "lr_pred_pol = lr_pol.predict_proba(X_test_pol)"
   ]
  },
  {
   "cell_type": "code",
   "execution_count": 52,
   "metadata": {},
   "outputs": [
    {
     "name": "stdout",
     "output_type": "stream",
     "text": [
      "[0.         0.         0.         ... 0.99803579 0.99847228 1.        ]\n",
      "[0.         0.06699577 0.06840621 ... 1.         1.         1.        ]\n",
      "0.979649625473814\n",
      "0.959\n",
      "0.9123307198859586\n",
      "[[4474  108]\n",
      " [ 138 1280]]\n",
      "[[4474  108]\n",
      " [ 138 1280]]\n",
      "              precision    recall  f1-score   support\n",
      "\n",
      "           0       0.97      0.98      0.97      4582\n",
      "           1       0.92      0.90      0.91      1418\n",
      "\n",
      "    accuracy                           0.96      6000\n",
      "   macro avg       0.95      0.94      0.94      6000\n",
      "weighted avg       0.96      0.96      0.96      6000\n",
      "\n"
     ]
    }
   ],
   "source": [
    "fpr['LR FE Poly'], tpr['LR FE Poly'], threshold = roc_curve(y_test_pol, lr_pred_pol[:,1])\n",
    "roc_auc['LR FE Poly'] = roc_auc_score(y_test_pol, lr_pred_pol[:,1])\n",
    "accuracy['LR FE Poly'] = accuracy_score(y_test_pol, np.argmax(lr_pred_pol,axis = 1))\n",
    "f1['LR FE Poly'] = f1_score(y_test_pol, np.argmax(lr_pred_pol,axis = 1))\n",
    "conf_mat['LR FE Poly'] = confusion_matrix(y_test_pol, np.argmax(lr_pred_pol,axis = 1))\n",
    "print(fpr['LR FE Poly'])\n",
    "print(tpr['LR FE Poly'])\n",
    "print(roc_auc['LR FE Poly'])\n",
    "print(accuracy['LR FE Poly'])\n",
    "print(f1['LR FE Poly'])\n",
    "print(conf_mat['LR FE Poly'])\n",
    "print(confusion_matrix(y_test_pol, np.argmax(lr_pred_pol,axis = 1)))\n",
    "print(classification_report(y_test_pol, np.argmax(lr_pred_pol,axis = 1)))"
   ]
  },
  {
   "cell_type": "code",
   "execution_count": 53,
   "metadata": {},
   "outputs": [
    {
     "data": {
      "text/plain": [
       "Text(0.5, 15.0, 'Predicted label')"
      ]
     },
     "execution_count": 53,
     "metadata": {},
     "output_type": "execute_result"
    },
    {
     "data": {
      "image/png": "[encoded data removed]",
      "text/plain": [
       "<Figure size 432x288 with 2 Axes>"
      ]
     },
     "metadata": {
      "needs_background": "light"
     },
     "output_type": "display_data"
    }
   ],
   "source": [
    "sns.heatmap(confusion_matrix(y_test_pol, np.argmax(lr_pred_pol,axis = 1)),annot = True, fmt = 'g')\n",
    "plt.ylabel('True label')\n",
    "plt.xlabel('Predicted label')"
   ]
  },
  {
   "cell_type": "markdown",
   "metadata": {},
   "source": [
    "## 4.1.4 Linear SVM on original data"
   ]
  },
  {
   "cell_type": "code",
   "execution_count": 54,
   "metadata": {},
   "outputs": [],
   "source": [
    "from sklearn.svm import SVC\n",
    "from sklearn.svm import LinearSVC\n",
    "from sklearn.model_selection import GridSearchCV\n",
    "lsvc_orig = LinearSVC()\n",
    "param_grid = {'C': [0.01,0.1,1,10,100]}"
   ]
  },
  {
   "cell_type": "code",
   "execution_count": 55,
   "metadata": {},
   "outputs": [],
   "source": [
    "grid_search = GridSearchCV(lsvc_orig, param_grid, cv = 3, scoring = 'roc_auc', n_jobs = -1)\n",
    "grid_search.fit(X_train_1, y_train_1)\n",
    "cvres = grid_search.cv_results_"
   ]
  },
  {
   "cell_type": "code",
   "execution_count": 56,
   "metadata": {},
   "outputs": [
    {
     "name": "stdout",
     "output_type": "stream",
     "text": [
      "0.8164983145779082 {'C': 0.01}\n",
      "0.8166780453284443 {'C': 0.1}\n",
      "0.8166872022738119 {'C': 1}\n",
      "0.8138233586756027 {'C': 10}\n",
      "0.6680652825152855 {'C': 100}\n"
     ]
    }
   ],
   "source": [
    "for mean_score, params in zip(cvres[\"mean_test_score\"],cvres[\"params\"]):\n",
    "    print(mean_score,params)"
   ]
  },
  {
   "cell_type": "code",
   "execution_count": 57,
   "metadata": {},
   "outputs": [
    {
     "name": "stdout",
     "output_type": "stream",
     "text": [
      "\n",
      "Best parameters\n",
      "{'C': 1}\n",
      "\n",
      "Best estimator\n",
      "LinearSVC(C=1, class_weight=None, dual=True, fit_intercept=True,\n",
      "          intercept_scaling=1, loss='squared_hinge', max_iter=1000,\n",
      "          multi_class='ovr', penalty='l2', random_state=None, tol=0.0001,\n",
      "          verbose=0)\n",
      "\n",
      "Best AUC score\n",
      "0.8166872022738119\n"
     ]
    }
   ],
   "source": [
    "print(\"\\nBest parameters\")\n",
    "print(grid_search.best_params_)\n",
    "\n",
    "print(\"\\nBest estimator\")\n",
    "print(grid_search.best_estimator_)\n",
    "\n",
    "print(\"\\nBest AUC score\")\n",
    "print(grid_search.best_score_)"
   ]
  },
  {
   "cell_type": "code",
   "execution_count": 58,
   "metadata": {},
   "outputs": [
    {
     "name": "stdout",
     "output_type": "stream",
     "text": [
      "\n",
      "AUC for test set:  0.5979892188664911\n"
     ]
    }
   ],
   "source": [
    "lsvc_orig_model = grid_search.best_estimator_\n",
    "lsvc_orig_model.fit(X_train_1, y_train_1)\n",
    "lsvc_orig_predictions = lsvc_orig_model.predict(X_test_1)\n",
    "lsvc_orig_auc = roc_auc_score(y_test_1, lsvc_orig_predictions)\n",
    "print(\"\\nAUC for test set: \", lsvc_orig_auc)"
   ]
  },
  {
   "cell_type": "code",
   "execution_count": 59,
   "metadata": {},
   "outputs": [
    {
     "name": "stdout",
     "output_type": "stream",
     "text": [
      "[0.         0.06918376 1.        ]\n",
      "[0.        0.2651622 1.       ]\n",
      "0.5979892188664911\n",
      "0.7735\n",
      "0.35622927522501185\n",
      "[[4265  317]\n",
      " [1042  376]]\n",
      "[[4265  317]\n",
      " [1042  376]]\n",
      "              precision    recall  f1-score   support\n",
      "\n",
      "           0       0.80      0.93      0.86      4582\n",
      "           1       0.54      0.27      0.36      1418\n",
      "\n",
      "    accuracy                           0.77      6000\n",
      "   macro avg       0.67      0.60      0.61      6000\n",
      "weighted avg       0.74      0.77      0.74      6000\n",
      "\n"
     ]
    }
   ],
   "source": [
    "fpr['LSVC orig'], tpr['LSVC orig'], threshold = roc_curve(y_test_1, lsvc_orig_predictions)\n",
    "roc_auc['LSVC orig'] = roc_auc_score(y_test_1, lsvc_orig_predictions)\n",
    "accuracy['LSVC orig'] = accuracy_score(y_test_1, lsvc_orig_predictions)\n",
    "f1['LSVC orig'] = f1_score(y_test_1, lsvc_orig_predictions)\n",
    "conf_mat['LSVC orig'] = confusion_matrix(y_test_1, lsvc_orig_predictions)\n",
    "print(fpr['LSVC orig'])\n",
    "print(tpr['LSVC orig'])\n",
    "print(roc_auc['LSVC orig'])\n",
    "print(accuracy['LSVC orig'])\n",
    "print(f1['LSVC orig'])\n",
    "print(conf_mat['LSVC orig'])\n",
    "print(confusion_matrix(y_test_1, lsvc_orig_predictions))\n",
    "print(classification_report(y_test_1, lsvc_orig_predictions))"
   ]
  },
  {
   "cell_type": "code",
   "execution_count": 60,
   "metadata": {},
   "outputs": [
    {
     "data": {
      "text/plain": [
       "Text(0.5, 15.0, 'Predicted label')"
      ]
     },
     "execution_count": 60,
     "metadata": {},
     "output_type": "execute_result"
    },
    {
     "data": {
      "image/png": "[encoded data removed]",
      "text/plain": [
       "<Figure size 432x288 with 2 Axes>"
      ]
     },
     "metadata": {
      "needs_background": "light"
     },
     "output_type": "display_data"
    }
   ],
   "source": [
    "sns.heatmap(confusion_matrix(y_test_1, lsvc_orig_predictions),annot = True, fmt = 'g')\n",
    "plt.ylabel('True label')\n",
    "plt.xlabel('Predicted label')"
   ]
  },
  {
   "cell_type": "markdown",
   "metadata": {},
   "source": [
    "## 4.1.5 Linear SVM on new data"
   ]
  },
  {
   "cell_type": "code",
   "execution_count": 61,
   "metadata": {},
   "outputs": [],
   "source": [
    "lsvc_new = LinearSVC()\n",
    "param_grid = {'C': [0.01,0.1,1,10,100]}"
   ]
  },
  {
   "cell_type": "code",
   "execution_count": 62,
   "metadata": {},
   "outputs": [],
   "source": [
    "grid_search = GridSearchCV(lsvc_new, param_grid, cv = 3, scoring = 'roc_auc', n_jobs = -1)\n",
    "grid_search.fit(X_train_tr, y_train)\n",
    "cvres = grid_search.cv_results_"
   ]
  },
  {
   "cell_type": "code",
   "execution_count": 63,
   "metadata": {},
   "outputs": [
    {
     "name": "stdout",
     "output_type": "stream",
     "text": [
      "0.9665816283044494 {'C': 0.01}\n",
      "0.9688140026121409 {'C': 0.1}\n",
      "0.9691965098181635 {'C': 1}\n",
      "0.9659469668591254 {'C': 10}\n",
      "0.9557626509563261 {'C': 100}\n"
     ]
    }
   ],
   "source": [
    "for mean_score, params in zip(cvres[\"mean_test_score\"],cvres[\"params\"]):\n",
    "    print(mean_score,params)"
   ]
  },
  {
   "cell_type": "code",
   "execution_count": 64,
   "metadata": {},
   "outputs": [
    {
     "name": "stdout",
     "output_type": "stream",
     "text": [
      "\n",
      "Best parameters\n",
      "{'C': 1}\n",
      "\n",
      "Best estimator\n",
      "LinearSVC(C=1, class_weight=None, dual=True, fit_intercept=True,\n",
      "          intercept_scaling=1, loss='squared_hinge', max_iter=1000,\n",
      "          multi_class='ovr', penalty='l2', random_state=None, tol=0.0001,\n",
      "          verbose=0)\n",
      "\n",
      "Best AUC score\n",
      "0.9691965098181635\n"
     ]
    }
   ],
   "source": [
    "print(\"\\nBest parameters\")\n",
    "print(grid_search.best_params_)\n",
    "\n",
    "print(\"\\nBest estimator\")\n",
    "print(grid_search.best_estimator_)\n",
    "\n",
    "print(\"\\nBest AUC score\")\n",
    "print(grid_search.best_score_)"
   ]
  },
  {
   "cell_type": "code",
   "execution_count": 65,
   "metadata": {},
   "outputs": [
    {
     "name": "stdout",
     "output_type": "stream",
     "text": [
      "\n",
      "AUC for test set:  0.9194901063153235\n"
     ]
    }
   ],
   "source": [
    "lsvc_new_model = grid_search.best_estimator_\n",
    "lsvc_new_model.fit(X_train_tr, y_train)\n",
    "lsvc_new_predictions = lsvc_new_model.predict(X_test_tr)\n",
    "lsvc_new_auc = roc_auc_score(y_test, lsvc_new_predictions)\n",
    "print(\"\\nAUC for test set: \", lsvc_new_auc)"
   ]
  },
  {
   "cell_type": "code",
   "execution_count": 66,
   "metadata": {},
   "outputs": [
    {
     "name": "stdout",
     "output_type": "stream",
     "text": [
      "[0.         0.03055434 1.        ]\n",
      "[0.         0.86953456 1.        ]\n",
      "0.9194901063153235\n",
      "0.9458333333333333\n",
      "0.8835542816194911\n",
      "[[4442  140]\n",
      " [ 185 1233]]\n",
      "[[4442  140]\n",
      " [ 185 1233]]\n",
      "              precision    recall  f1-score   support\n",
      "\n",
      "           0       0.96      0.97      0.96      4582\n",
      "           1       0.90      0.87      0.88      1418\n",
      "\n",
      "    accuracy                           0.95      6000\n",
      "   macro avg       0.93      0.92      0.92      6000\n",
      "weighted avg       0.95      0.95      0.95      6000\n",
      "\n"
     ]
    }
   ],
   "source": [
    "fpr['LSVC new'], tpr['LSVC new'], threshold = roc_curve(y_test, lsvc_new_predictions)\n",
    "roc_auc['LSVC new'] = roc_auc_score(y_test, lsvc_new_predictions)\n",
    "accuracy['LSVC new'] = accuracy_score(y_test, lsvc_new_predictions)\n",
    "f1['LSVC new'] = f1_score(y_test, lsvc_new_predictions)\n",
    "conf_mat['LSVC new'] = confusion_matrix(y_test, lsvc_new_predictions)\n",
    "print(fpr['LSVC new'])\n",
    "print(tpr['LSVC new'])\n",
    "print(roc_auc['LSVC new'])\n",
    "print(accuracy['LSVC new'])\n",
    "print(f1['LSVC new'])\n",
    "print(conf_mat['LSVC new'])\n",
    "print(confusion_matrix(y_test, lsvc_new_predictions))\n",
    "print(classification_report(y_test, lsvc_new_predictions))"
   ]
  },
  {
   "cell_type": "code",
   "execution_count": 67,
   "metadata": {},
   "outputs": [
    {
     "data": {
      "text/plain": [
       "Text(0.5, 15.0, 'Predicted label')"
      ]
     },
     "execution_count": 67,
     "metadata": {},
     "output_type": "execute_result"
    },
    {
     "data": {
      "image/png": "[encoded data removed]",
      "text/plain": [
       "<Figure size 432x288 with 2 Axes>"
      ]
     },
     "metadata": {
      "needs_background": "light"
     },
     "output_type": "display_data"
    }
   ],
   "source": [
    "sns.heatmap(confusion_matrix(y_test, lsvc_new_predictions),annot = True, fmt = 'g')\n",
    "plt.ylabel('True label')\n",
    "plt.xlabel('Predicted label')"
   ]
  },
  {
   "cell_type": "markdown",
   "metadata": {},
   "source": [
    "# knn"
   ]
  },
  {
   "cell_type": "code",
   "execution_count": 68,
   "metadata": {},
   "outputs": [
    {
     "name": "stdout",
     "output_type": "stream",
     "text": [
      "0.9320943248037341 {'n_neighbors': 1}\n",
      "0.9522080849493654 {'n_neighbors': 2}\n",
      "0.9558154018267604 {'n_neighbors': 3}\n",
      "0.959341160587558 {'n_neighbors': 4}\n",
      "0.9621582008969907 {'n_neighbors': 5}\n",
      "0.9618424735767082 {'n_neighbors': 6}\n",
      "0.9616488354420469 {'n_neighbors': 7}\n",
      "0.9616339930615763 {'n_neighbors': 8}\n",
      "0.9624901772748544 {'n_neighbors': 9}\n",
      "0.9638060589687706 {'n_neighbors': 10}\n",
      "0.9640866524073359 {'n_neighbors': 11}\n",
      "0.9639317133394909 {'n_neighbors': 12}\n",
      "0.9637330497808736 {'n_neighbors': 13}\n",
      "0.9638157445602917 {'n_neighbors': 14}\n"
     ]
    }
   ],
   "source": [
    "from sklearn.neighbors import KNeighborsClassifier\n",
    "k_range = np.arange(1,15)\n",
    "param_grid = dict(n_neighbors=k_range)\n",
    "knnModel = KNeighborsClassifier()\n",
    "grid_search = GridSearchCV(knnModel, param_grid, cv = 3, scoring = 'roc_auc', n_jobs = -1)\n",
    "grid_search.fit(X_train_tr, y_train)\n",
    "cvres = grid_search.cv_results_\n",
    "for mean_score, params in zip(cvres[\"mean_test_score\"],cvres[\"params\"]):\n",
    "    print(mean_score,params)\n",
    "#knnModel.fit(X_train,y_train)\n",
    "#knn_pred = knnModel.predict(X_test)"
   ]
  },
  {
   "cell_type": "code",
   "execution_count": 69,
   "metadata": {},
   "outputs": [
    {
     "name": "stdout",
     "output_type": "stream",
     "text": [
      "\n",
      "Best parameters\n",
      "{'n_neighbors': 11}\n",
      "\n",
      "Best estimator\n",
      "KNeighborsClassifier(algorithm='auto', leaf_size=30, metric='minkowski',\n",
      "                     metric_params=None, n_jobs=None, n_neighbors=11, p=2,\n",
      "                     weights='uniform')\n",
      "\n",
      "Best AUC score\n",
      "0.9640866524073359\n"
     ]
    }
   ],
   "source": [
    "print(\"\\nBest parameters\")\n",
    "print(grid_search.best_params_)\n",
    "\n",
    "print(\"\\nBest estimator\")\n",
    "print(grid_search.best_estimator_)\n",
    "\n",
    "print(\"\\nBest AUC score\")\n",
    "print(grid_search.best_score_)"
   ]
  },
  {
   "cell_type": "code",
   "execution_count": 70,
   "metadata": {},
   "outputs": [
    {
     "name": "stdout",
     "output_type": "stream",
     "text": [
      "\n",
      "AUC for test set:  0.9180470400210795\n"
     ]
    }
   ],
   "source": [
    "knn_model = grid_search.best_estimator_\n",
    "knn_model.fit(X_train_tr, y_train)\n",
    "knn_model_predictions = knn_model.predict(X_test_tr)\n",
    "knn_model_auc = roc_auc_score(y_test, knn_model_predictions)\n",
    "print(\"\\nAUC for test set: \", knn_model_auc)"
   ]
  },
  {
   "cell_type": "code",
   "execution_count": 71,
   "metadata": {},
   "outputs": [
    {
     "name": "stdout",
     "output_type": "stream",
     "text": [
      "[0.        0.0419031 1.       ]\n",
      "[0.         0.87799718 1.        ]\n",
      "0.9180470400210795\n",
      "0.9391666666666667\n",
      "0.8721541155866899\n",
      "[[4390  192]\n",
      " [ 173 1245]]\n",
      "[[4390  192]\n",
      " [ 173 1245]]\n",
      "              precision    recall  f1-score   support\n",
      "\n",
      "           0       0.96      0.96      0.96      4582\n",
      "           1       0.87      0.88      0.87      1418\n",
      "\n",
      "    accuracy                           0.94      6000\n",
      "   macro avg       0.91      0.92      0.92      6000\n",
      "weighted avg       0.94      0.94      0.94      6000\n",
      "\n"
     ]
    }
   ],
   "source": [
    "fpr['Knn'], tpr['Knn'], threshold = roc_curve(y_test, knn_model_predictions)\n",
    "roc_auc['Knn'] = roc_auc_score(y_test, knn_model_predictions)\n",
    "accuracy['Knn'] = accuracy_score(y_test, knn_model_predictions)\n",
    "f1['Knn'] = f1_score(y_test, knn_model_predictions)\n",
    "conf_mat['Knn'] = confusion_matrix(y_test, knn_model_predictions)\n",
    "print(fpr['Knn'])\n",
    "print(tpr['Knn'])\n",
    "print(roc_auc['Knn'])\n",
    "print(accuracy['Knn'])\n",
    "print(f1['Knn'])\n",
    "print(conf_mat['Knn'])\n",
    "print(confusion_matrix(y_test, knn_model_predictions))\n",
    "print(classification_report(y_test, knn_model_predictions))"
   ]
  },
  {
   "cell_type": "code",
   "execution_count": 72,
   "metadata": {},
   "outputs": [
    {
     "data": {
      "text/plain": [
       "Text(0.5, 15.0, 'Predicted label')"
      ]
     },
     "execution_count": 72,
     "metadata": {},
     "output_type": "execute_result"
    },
    {
     "data": {
      "image/png": "[encoded data removed]",
      "text/plain": [
       "<Figure size 432x288 with 2 Axes>"
      ]
     },
     "metadata": {
      "needs_background": "light"
     },
     "output_type": "display_data"
    }
   ],
   "source": [
    "sns.heatmap(confusion_matrix(y_test, knn_model_predictions),annot = True, fmt = 'g')\n",
    "plt.ylabel('True label')\n",
    "plt.xlabel('Predicted label')"
   ]
  },
  {
   "cell_type": "markdown",
   "metadata": {},
   "source": [
    "# Random Forest"
   ]
  },
  {
   "cell_type": "code",
   "execution_count": 73,
   "metadata": {},
   "outputs": [],
   "source": [
    "from sklearn.ensemble import RandomForestClassifier\n",
    "from sklearn.model_selection import GridSearchCV\n",
    "from sklearn.metrics import roc_auc_score"
   ]
  },
  {
   "cell_type": "code",
   "execution_count": 74,
   "metadata": {},
   "outputs": [],
   "source": [
    "rnd_clf = RandomForestClassifier()"
   ]
  },
  {
   "cell_type": "code",
   "execution_count": 75,
   "metadata": {},
   "outputs": [],
   "source": [
    "param_grid = [{'n_estimators':[100,200,300,400]}]"
   ]
  },
  {
   "cell_type": "code",
   "execution_count": 76,
   "metadata": {},
   "outputs": [
    {
     "name": "stdout",
     "output_type": "stream",
     "text": [
      "\n",
      "Best parameters\n",
      "{'n_estimators': 300}\n",
      "\n",
      "Best estimator\n",
      "RandomForestClassifier(bootstrap=True, class_weight=None, criterion='gini',\n",
      "                       max_depth=None, max_features='auto', max_leaf_nodes=None,\n",
      "                       min_impurity_decrease=0.0, min_impurity_split=None,\n",
      "                       min_samples_leaf=1, min_samples_split=2,\n",
      "                       min_weight_fraction_leaf=0.0, n_estimators=300,\n",
      "                       n_jobs=None, oob_score=False, random_state=None,\n",
      "                       verbose=0, warm_start=False)\n",
      "\n",
      "Best AUC score\n",
      "0.9773328598672752\n"
     ]
    }
   ],
   "source": [
    "grid_search = GridSearchCV(rnd_clf, param_grid, cv = 3, scoring = 'roc_auc', n_jobs = -1)\n",
    "grid_search.fit(X_train_tr, y_train)\n",
    "\n",
    "print(\"\\nBest parameters\")\n",
    "print(grid_search.best_params_)\n",
    "\n",
    "print(\"\\nBest estimator\")\n",
    "print(grid_search.best_estimator_)\n",
    "\n",
    "print(\"\\nBest AUC score\")\n",
    "print(grid_search.best_score_)"
   ]
  },
  {
   "cell_type": "code",
   "execution_count": 77,
   "metadata": {},
   "outputs": [
    {
     "name": "stdout",
     "output_type": "stream",
     "text": [
      "\n",
      "AUC for test set:  0.9821442093578908\n"
     ]
    }
   ],
   "source": [
    "rnd_final_model = grid_search.best_estimator_\n",
    "rnd_final_model.fit(X_train_tr, y_train)\n",
    "rnd_final_predictions = rnd_final_model.predict_proba(X_test_tr)\n",
    "rnd_final_auc = roc_auc_score(y_test, rnd_final_predictions[:,1])\n",
    "print(\"\\nAUC for test set: \", rnd_final_auc)"
   ]
  },
  {
   "cell_type": "code",
   "execution_count": 78,
   "metadata": {},
   "outputs": [
    {
     "name": "stdout",
     "output_type": "stream",
     "text": [
      "[0.         0.00196421 0.00196421 0.00196421 0.00196421 0.00196421\n",
      " 0.00196421 0.00196421 0.00218245 0.00218245 0.00218245 0.00218245\n",
      " 0.00218245 0.00218245 0.00218245 0.00218245 0.00218245 0.00218245\n",
      " 0.0024007  0.0024007  0.00305543 0.00305543 0.00305543 0.00305543\n",
      " 0.00305543 0.00305543 0.00327368 0.00327368 0.00327368 0.00327368\n",
      " 0.00327368 0.00327368 0.00327368 0.00327368 0.00327368 0.00327368\n",
      " 0.00327368 0.00327368 0.00327368 0.00327368 0.00327368 0.00327368\n",
      " 0.00327368 0.00327368 0.00327368 0.00327368 0.00327368 0.00327368\n",
      " 0.00327368 0.00327368 0.00327368 0.00371017 0.00371017 0.00371017\n",
      " 0.00371017 0.00371017 0.00371017 0.00371017 0.00392842 0.00392842\n",
      " 0.00392842 0.00392842 0.00392842 0.00392842 0.00392842 0.00392842\n",
      " 0.00392842 0.00414666 0.00414666 0.00414666 0.00414666 0.00414666\n",
      " 0.00414666 0.00414666 0.00414666 0.00414666 0.00414666 0.00414666\n",
      " 0.00501964 0.00523789 0.00523789 0.00523789 0.00567438 0.00567438\n",
      " 0.00567438 0.00567438 0.00567438 0.00567438 0.00567438 0.00567438\n",
      " 0.00611087 0.00611087 0.00611087 0.00632911 0.00632911 0.00632911\n",
      " 0.00654736 0.00654736 0.00698385 0.0072021  0.0072021  0.00785683\n",
      " 0.00785683 0.00785683 0.00807508 0.00807508 0.00938455 0.00938455\n",
      " 0.01091227 0.01113051 0.01113051 0.01113051 0.01113051 0.01113051\n",
      " 0.011567   0.011567   0.011567   0.01200349 0.01222174 0.01222174\n",
      " 0.01243998 0.01331296 0.01484068 0.01484068 0.01505893 0.01527717\n",
      " 0.01593191 0.0163684  0.01658664 0.01680489 0.01680489 0.01724138\n",
      " 0.01745962 0.01767787 0.0187691  0.0187691  0.01920559 0.01920559\n",
      " 0.01920559 0.01942383 0.01964208 0.02029681 0.02051506 0.02160629\n",
      " 0.02204278 0.02269751 0.023134   0.02378874 0.02378874 0.02400698\n",
      " 0.02444347 0.02531646 0.02597119 0.02640768 0.02706242 0.02859014\n",
      " 0.02902663 0.02924487 0.02924487 0.02946312 0.02946312 0.0303361\n",
      " 0.03120908 0.03164557 0.03317329 0.03360978 0.03360978 0.03382802\n",
      " 0.03448276 0.034701   0.03513749 0.03535574 0.03535574 0.03753819\n",
      " 0.03841117 0.03884766 0.03972065 0.04015714 0.04015714 0.04037538\n",
      " 0.04059363 0.04103012 0.04124836 0.04146661 0.04299433 0.04343082\n",
      " 0.04364906 0.04386731 0.04408555 0.0443038  0.0443038  0.04495853\n",
      " 0.04539502 0.04648625 0.04692274 0.04714099 0.04714099 0.04757748\n",
      " 0.04779572 0.04845046 0.04975993 0.04997818 0.05041467 0.05041467\n",
      " 0.05085116 0.05172414 0.05325186 0.05434308 0.05652553 0.05674378\n",
      " 0.05739852 0.05761676 0.05979921 0.06001746 0.06001746 0.0602357\n",
      " 0.06132693 0.06154518 0.06241816 0.0626364  0.06329114 0.06350938\n",
      " 0.06394588 0.06416412 0.06460061 0.06547359 0.06612833 0.06656482\n",
      " 0.06700131 0.06721955 0.06765605 0.06896552 0.0698385  0.07049323\n",
      " 0.07136622 0.07202095 0.0722392  0.07267569 0.07311218 0.07376691\n",
      " 0.0742034  0.07442165 0.07573112 0.07594937 0.07616761 0.07682235\n",
      " 0.07725884 0.07769533 0.07791357 0.07856831 0.0790048  0.08009603\n",
      " 0.08096901 0.08118725 0.08227848 0.08271497 0.08315146 0.08315146\n",
      " 0.08424269 0.08467918 0.08533392 0.08598865 0.08642514 0.08686163\n",
      " 0.08707988 0.08795286 0.08838935 0.08882584 0.09013531 0.09100829\n",
      " 0.09122654 0.09144478 0.09209952 0.09253601 0.09275426 0.09319075\n",
      " 0.09384548 0.09450022 0.09471846 0.09559144 0.09668267 0.09733741\n",
      " 0.0977739  0.09842863 0.09842863 0.09864688 0.09908337 0.09995635\n",
      " 0.10061109 0.10104758 0.10126582 0.10257529 0.10366652 0.10410301\n",
      " 0.10475775 0.10541248 0.10563073 0.10650371 0.10715845 0.10715845\n",
      " 0.10737669 0.10781318 0.10846792 0.10912265 0.10977739 0.11021388\n",
      " 0.11065037 0.11152335 0.1117416  0.11217809 0.11283282 0.11392405\n",
      " 0.11545177 0.11697948 0.11763422 0.11785247 0.11894369 0.11938018\n",
      " 0.11981667 0.12068966 0.1209079  0.12134439 0.12199913 0.12243562\n",
      " 0.12265386 0.12396333 0.12396333 0.12439983 0.12461807 0.12549105\n",
      " 0.12636403 0.12832824 0.12941947 0.13051069 0.13094718 0.13291139\n",
      " 0.13334788 0.13334788 0.13400262 0.13465735 0.13509385 0.13596683\n",
      " 0.1372763  0.13771279 0.13814928 0.13902226 0.13945875 0.14098647\n",
      " 0.14251419 0.14295068 0.14316892 0.14578787 0.14775207 0.14949804\n",
      " 0.15277172 0.15408119 0.15713662 0.15757311 0.15757311 0.1580096\n",
      " 0.16128328 0.16171977 0.16215626 0.16324749 0.16368398 0.16695766\n",
      " 0.16804889 0.16848538 0.16892187 0.16935836 0.16979485 0.17023134\n",
      " 0.17044959 0.17088608 0.17110432 0.17394151 0.17546923 0.17612396\n",
      " 0.17634221 0.17699694 0.17808817 0.18332606 0.18332606 0.18376255\n",
      " 0.18441729 0.18463553 0.18529027 0.185945   0.18638149 0.18681798\n",
      " 0.18725447 0.18769096 0.19249236 0.19358359 0.19402008 0.19511131\n",
      " 0.1955478  0.19620253 0.19663902 0.19773025 0.19816674 0.20274989\n",
      " 0.20427761 0.20493234 0.20558708 0.20646006 0.20689655 0.20733304\n",
      " 0.20842427 0.21257093 0.21409865 0.21497163 0.21540812 0.21606285\n",
      " 0.21649935 0.21649935 0.21693584 0.21693584 0.21759057 0.21846355\n",
      " 0.22435618 0.22501091 0.2254474  0.22588389 0.22610214 0.22675687\n",
      " 0.22697512 0.22762986 0.2278481  0.22872108 0.22893933 0.22981231\n",
      " 0.23068529 0.23199476 0.24050633 0.24072457 0.24116107 0.24137931\n",
      " 0.24137931 0.24312527 0.24356176 0.24399825 0.2442165  0.24508948\n",
      " 0.24552597 0.24596246 0.24618071 0.24705369 0.24727193 0.24770842\n",
      " 0.24792667 0.24836316 0.2490179  0.24967263 0.24989088 0.25883893\n",
      " 0.25971192 0.26014841 0.2605849  0.26123963 0.26167612 0.26189437\n",
      " 0.26276735 0.26364033 0.26385858 0.26451331 0.26473156 0.26560454\n",
      " 0.26647752 0.27957224 0.28022698 0.28088171 0.2813182  0.28219118\n",
      " 0.28262767 0.28306416 0.2837189  0.28415539 0.28415539 0.28437364\n",
      " 0.28568311 0.28590135 0.28633784 0.28699258 0.28699258 0.28721082\n",
      " 0.28764732 0.28830205 0.28873854 0.28939328 0.29113924 0.29179398\n",
      " 0.29201222 0.29244871 0.2928852  0.29332169 0.31034483 0.31056307\n",
      " 0.3116543  0.31274553 0.314055   0.31449149 0.31492798 0.31580096\n",
      " 0.31623745 0.3164557  0.31732868 0.31798341 0.3184199  0.31951113\n",
      " 0.31972938 0.32016587 0.32343955 0.32387604 0.32431253 0.32474902\n",
      " 0.325622   0.32649498 0.32693147 0.32758621 0.32780445 0.32845919\n",
      " 0.32998691 0.33107813 0.33195111 0.33216936 0.33216936 0.33260585\n",
      " 0.33326058 0.33369708 0.36556089 0.36621563 0.36708861 0.3675251\n",
      " 0.36817983 0.36905282 0.37079878 0.37145351 0.37189    0.37363597\n",
      " 0.37472719 0.37581842 0.3766914  0.37734614 0.37756438 0.38018333\n",
      " 0.38040157 0.38083806 0.38105631 0.38258402 0.38280227 0.38280227\n",
      " 0.38411174 0.38476648 0.38542121 0.38607595 0.38629419 0.38716718\n",
      " 0.38760367 0.3882584  0.38913138 0.39022261 0.3906591  0.39087735\n",
      " 0.39153208 0.39175033 0.45635094 0.45700567 0.45744216 0.45875164\n",
      " 0.45918813 0.45962462 0.4604976  0.46137058 0.46268005 0.46311654\n",
      " 0.46333479 0.46377128 0.46464426 0.465299   0.46573549 0.46944566\n",
      " 0.47119162 0.47184636 0.47228285 0.47381056 0.47402881 0.47512003\n",
      " 0.47533828 0.47577477 0.47642951 0.47730249 0.48384985 0.48472283\n",
      " 0.48515932 0.48515932 0.48559581 0.48646879 0.48690528 0.48821475\n",
      " 0.488433   0.48930598 0.48974247 0.49061545 0.49410738 0.49498036\n",
      " 0.49541685 0.49585334 0.49628983 0.49803579 0.49890877 0.49912702\n",
      " 0.5024007  0.50327368 0.50392842 0.50436491 0.50698385 0.50960279\n",
      " 0.51069402 0.51134876 0.51200349 0.51243998 1.        ]\n",
      "[0.         0.55500705 0.55571227 0.55782793 0.55853315 0.55994358\n",
      " 0.56205924 0.56346968 0.56488011 0.60155148 0.60578279 0.60860367\n",
      " 0.60930889 0.62693935 0.62976023 0.63117066 0.63187588 0.63328632\n",
      " 0.63963329 0.64245416 0.6438646  0.64527504 0.65796897 0.69605078\n",
      " 0.69746121 0.70380818 0.70521862 0.70803949 0.70944993 0.7157969\n",
      " 0.71791255 0.71861777 0.72073343 0.72214386 0.72708039 0.72919605\n",
      " 0.73342736 0.74964739 0.75105783 0.75458392 0.75599436 0.7574048\n",
      " 0.75811001 0.75952045 0.76022567 0.76234133 0.77221439 0.77362482\n",
      " 0.77574048 0.77856135 0.78067701 0.78067701 0.78138223 0.78349788\n",
      " 0.79196051 0.79478138 0.79619182 0.79971791 0.79971791 0.80042313\n",
      " 0.80253879 0.80394922 0.80465444 0.80606488 0.8067701  0.81664316\n",
      " 0.82016925 0.82016925 0.82440056 0.82651622 0.83638928 0.8370945\n",
      " 0.83850494 0.83921016 0.84132581 0.84203103 0.84344147 0.8448519\n",
      " 0.84626234 0.84696756 0.84908322 0.84978843 0.84978843 0.85119887\n",
      " 0.85331453 0.85472496 0.8561354  0.85825106 0.8596615  0.86177715\n",
      " 0.86248237 0.86318759 0.86459803 0.86459803 0.86530324 0.86671368\n",
      " 0.86812412 0.86953456 0.86953456 0.86953456 0.87165021 0.87306065\n",
      " 0.8751763  0.87658674 0.87658674 0.88081805 0.88504937 0.8864598\n",
      " 0.88716502 0.88787024 0.8899859  0.89069111 0.89351199 0.89633286\n",
      " 0.89633286 0.89985896 0.90267983 0.90267983 0.90338505 0.90479549\n",
      " 0.90479549 0.90550071 0.90550071 0.90620592 0.90620592 0.90761636\n",
      " 0.9090268  0.9090268  0.91043724 0.91043724 0.91184767 0.91184767\n",
      " 0.91396333 0.91396333 0.91466855 0.91537377 0.91537377 0.9167842\n",
      " 0.91819464 0.91819464 0.91960508 0.9203103  0.92172073 0.92242595\n",
      " 0.92242595 0.92242595 0.92242595 0.92242595 0.92313117 0.92313117\n",
      " 0.92313117 0.92313117 0.92313117 0.92313117 0.92313117 0.92313117\n",
      " 0.92313117 0.92313117 0.92383639 0.92595205 0.92665726 0.92665726\n",
      " 0.92665726 0.92665726 0.92736248 0.92736248 0.9280677  0.9280677\n",
      " 0.9280677  0.9280677  0.9280677  0.9280677  0.92877292 0.92877292\n",
      " 0.92877292 0.92877292 0.92877292 0.92877292 0.93018336 0.93018336\n",
      " 0.93159379 0.93159379 0.93159379 0.93300423 0.93511989 0.93511989\n",
      " 0.93653032 0.93653032 0.93794076 0.93794076 0.94005642 0.94076164\n",
      " 0.94076164 0.94076164 0.94076164 0.94076164 0.94287729 0.94287729\n",
      " 0.94428773 0.94428773 0.94569817 0.94569817 0.94569817 0.94640339\n",
      " 0.94640339 0.94640339 0.94640339 0.94640339 0.94992948 0.94992948\n",
      " 0.94992948 0.94992948 0.95275035 0.95275035 0.95345557 0.95345557\n",
      " 0.95416079 0.95416079 0.95416079 0.95416079 0.95416079 0.95416079\n",
      " 0.95416079 0.95416079 0.95416079 0.95416079 0.95416079 0.95416079\n",
      " 0.95416079 0.95416079 0.95416079 0.95416079 0.95627645 0.95627645\n",
      " 0.95627645 0.95627645 0.95627645 0.95627645 0.95627645 0.95627645\n",
      " 0.95627645 0.95627645 0.95627645 0.95698166 0.95698166 0.95698166\n",
      " 0.95698166 0.95698166 0.95768688 0.95768688 0.95768688 0.95768688\n",
      " 0.95768688 0.95768688 0.9583921  0.9583921  0.9583921  0.95909732\n",
      " 0.96050776 0.96050776 0.96050776 0.96121298 0.96121298 0.96121298\n",
      " 0.96121298 0.96121298 0.96121298 0.96121298 0.96121298 0.96121298\n",
      " 0.96121298 0.96191819 0.96191819 0.96191819 0.96191819 0.96191819\n",
      " 0.96191819 0.96191819 0.96191819 0.96332863 0.96332863 0.96332863\n",
      " 0.96332863 0.96403385 0.96473907 0.96473907 0.96473907 0.96473907\n",
      " 0.96473907 0.96473907 0.96473907 0.96473907 0.96473907 0.96473907\n",
      " 0.96473907 0.96473907 0.96473907 0.96473907 0.96473907 0.96614951\n",
      " 0.96614951 0.96614951 0.96614951 0.96614951 0.96614951 0.96614951\n",
      " 0.96614951 0.96614951 0.96614951 0.96614951 0.96614951 0.96614951\n",
      " 0.96614951 0.96614951 0.96614951 0.96685472 0.96685472 0.96685472\n",
      " 0.96685472 0.96685472 0.96685472 0.96685472 0.96685472 0.96685472\n",
      " 0.96685472 0.96685472 0.96755994 0.96755994 0.96755994 0.96897038\n",
      " 0.96897038 0.97038082 0.97038082 0.97038082 0.97038082 0.97179126\n",
      " 0.97179126 0.97249647 0.97249647 0.97249647 0.97249647 0.97249647\n",
      " 0.97249647 0.97249647 0.97249647 0.97249647 0.97249647 0.97249647\n",
      " 0.97249647 0.97249647 0.97249647 0.97249647 0.97249647 0.97249647\n",
      " 0.97249647 0.97249647 0.97390691 0.97390691 0.97461213 0.97461213\n",
      " 0.97461213 0.97461213 0.97461213 0.97461213 0.97461213 0.97531735\n",
      " 0.97531735 0.97531735 0.97531735 0.97531735 0.97531735 0.97531735\n",
      " 0.97531735 0.97531735 0.97531735 0.97531735 0.97531735 0.97531735\n",
      " 0.97531735 0.97531735 0.97531735 0.97531735 0.97672779 0.97672779\n",
      " 0.97672779 0.977433   0.977433   0.977433   0.977433   0.977433\n",
      " 0.977433   0.977433   0.97813822 0.97813822 0.97813822 0.97813822\n",
      " 0.97813822 0.97813822 0.97813822 0.97813822 0.97813822 0.97813822\n",
      " 0.97813822 0.97813822 0.97813822 0.97813822 0.97813822 0.97813822\n",
      " 0.97813822 0.97813822 0.97813822 0.97813822 0.97813822 0.97813822\n",
      " 0.97813822 0.97884344 0.97884344 0.97954866 0.97954866 0.97954866\n",
      " 0.97954866 0.97954866 0.97954866 0.97954866 0.97954866 0.97954866\n",
      " 0.97954866 0.97954866 0.97954866 0.97954866 0.97954866 0.97954866\n",
      " 0.97954866 0.97954866 0.97954866 0.97954866 0.97954866 0.97954866\n",
      " 0.98025388 0.98025388 0.98025388 0.98025388 0.98025388 0.98025388\n",
      " 0.98025388 0.98025388 0.98025388 0.98025388 0.98025388 0.98025388\n",
      " 0.98025388 0.98025388 0.98025388 0.98025388 0.98025388 0.9809591\n",
      " 0.9809591  0.9809591  0.9809591  0.9809591  0.9809591  0.9809591\n",
      " 0.9809591  0.9809591  0.9809591  0.9809591  0.9809591  0.98307475\n",
      " 0.98307475 0.98307475 0.98307475 0.98307475 0.98307475 0.98307475\n",
      " 0.98307475 0.98307475 0.98307475 0.98307475 0.98377997 0.98377997\n",
      " 0.98377997 0.98377997 0.98377997 0.98377997 0.98448519 0.98448519\n",
      " 0.98448519 0.98448519 0.98448519 0.98448519 0.98448519 0.98448519\n",
      " 0.98448519 0.98448519 0.98448519 0.98448519 0.98519041 0.98519041\n",
      " 0.98519041 0.98519041 0.98519041 0.98519041 0.98519041 0.98519041\n",
      " 0.98519041 0.98589563 0.98589563 0.98589563 0.98589563 0.98589563\n",
      " 0.98589563 0.98589563 0.98589563 0.98589563 0.98589563 0.98589563\n",
      " 0.98589563 0.98589563 0.98589563 0.98589563 0.98589563 0.98589563\n",
      " 0.98589563 0.98589563 0.98589563 0.98589563 0.98660085 0.98660085\n",
      " 0.98660085 0.98660085 0.98801128 0.98801128 0.98801128 0.98801128\n",
      " 0.98801128 0.98801128 0.98801128 0.98801128 0.98801128 0.98801128\n",
      " 0.98801128 0.98801128 0.98801128 0.98801128 0.98801128 0.98801128\n",
      " 0.98801128 0.98801128 0.98801128 0.98801128 0.98801128 0.9887165\n",
      " 0.9887165  0.9887165  0.9887165  0.9887165  0.9887165  0.9887165\n",
      " 0.9887165  0.9887165  0.9887165  0.9887165  0.9887165  0.9887165\n",
      " 0.9887165  0.9887165  0.9887165  0.9887165  0.9887165  0.9887165\n",
      " 0.9887165  0.9887165  0.9887165  0.9887165  0.9887165  0.9887165\n",
      " 0.9887165  0.9887165  0.9887165  0.9887165  0.9887165  0.9887165\n",
      " 0.9887165  0.9887165  0.9887165  0.9887165  0.9887165  0.9887165\n",
      " 0.9887165  0.9887165  0.9887165  0.9887165  0.9887165  0.9887165\n",
      " 0.9887165  0.98942172 0.98942172 0.98942172 0.98942172 0.98942172\n",
      " 0.98942172 0.98942172 0.98942172 0.98942172 0.98942172 0.98942172\n",
      " 0.98942172 0.98942172 0.98942172 0.98942172 0.98942172 0.98942172\n",
      " 0.98942172 0.98942172 0.98942172 0.98942172 0.98942172 0.98942172\n",
      " 0.98942172 0.98942172 0.98942172 0.98942172 1.        ]\n",
      "0.9821442093578908\n",
      "0.9663333333333334\n",
      "0.9277022190408017\n",
      "[[4502   80]\n",
      " [ 122 1296]]\n",
      "[[4502   80]\n",
      " [ 122 1296]]\n",
      "              precision    recall  f1-score   support\n",
      "\n",
      "           0       0.97      0.98      0.98      4582\n",
      "           1       0.94      0.91      0.93      1418\n",
      "\n",
      "    accuracy                           0.97      6000\n",
      "   macro avg       0.96      0.95      0.95      6000\n",
      "weighted avg       0.97      0.97      0.97      6000\n",
      "\n"
     ]
    }
   ],
   "source": [
    "fpr['Random Forest'], tpr['Random Forest'], threshold = roc_curve(y_test, rnd_final_predictions[:,1])\n",
    "roc_auc['Random Forest'] = roc_auc_score(y_test, rnd_final_predictions[:,1])\n",
    "accuracy['Random Forest'] = accuracy_score(y_test, np.argmax(rnd_final_predictions,axis = 1))\n",
    "f1['Random Forest'] = f1_score(y_test, np.argmax(rnd_final_predictions,axis = 1))\n",
    "conf_mat['Random Forest'] = confusion_matrix(y_test, np.argmax(rnd_final_predictions,axis = 1))\n",
    "print(fpr['Random Forest'])\n",
    "print(tpr['Random Forest'])\n",
    "print(roc_auc['Random Forest'])\n",
    "print(accuracy['Random Forest'])\n",
    "print(f1['Random Forest'])\n",
    "print(conf_mat['Random Forest'])\n",
    "print(confusion_matrix(y_test, np.argmax(rnd_final_predictions,axis = 1)))\n",
    "print(classification_report(y_test, np.argmax(rnd_final_predictions,axis = 1)))"
   ]
  },
  {
   "cell_type": "code",
   "execution_count": 79,
   "metadata": {},
   "outputs": [
    {
     "data": {
      "text/plain": [
       "Text(0.5, 15.0, 'Predicted label')"
      ]
     },
     "execution_count": 79,
     "metadata": {},
     "output_type": "execute_result"
    },
    {
     "data": {
      "image/png": "[encoded data removed]",
      "text/plain": [
       "<Figure size 432x288 with 2 Axes>"
      ]
     },
     "metadata": {
      "needs_background": "light"
     },
     "output_type": "display_data"
    }
   ],
   "source": [
    "sns.heatmap(confusion_matrix(y_test, np.argmax(rnd_final_predictions,axis=1)),annot = True, fmt = 'g')\n",
    "plt.ylabel('True label')\n",
    "plt.xlabel('Predicted label')"
   ]
  },
  {
   "cell_type": "markdown",
   "metadata": {},
   "source": [
    "# SVC"
   ]
  },
  {
   "cell_type": "code",
   "execution_count": 80,
   "metadata": {},
   "outputs": [],
   "source": [
    "svc = SVC()"
   ]
  },
  {
   "cell_type": "code",
   "execution_count": 81,
   "metadata": {},
   "outputs": [],
   "source": [
    "# param_grid = [{'kernel': ['linear'],'C': [0.01,0.1,1,10,100]},\n",
    "#               {'kernel': ['rbf'],'C': [0.01,0.1,1,10,100],'gamma': ['auto']},\n",
    "#               {'kernel': ['poly'],'C': [0.01,0.1,1,10,100],'gamma': ['auto'],'degree': [2,4,6]}]\n",
    "\n",
    "param_grid = [{'kernel': ['rbf'],'C': [0.01,0.1,1,10,100],'gamma': ['auto']}]\n",
    "#param_grid = [{'kernel': ['linear'],'C': [0.01,0.1,1,10,100]}]"
   ]
  },
  {
   "cell_type": "code",
   "execution_count": 82,
   "metadata": {},
   "outputs": [],
   "source": [
    "grid_search = GridSearchCV(svc, param_grid, cv = 3, scoring = 'roc_auc', n_jobs = -1)\n",
    "grid_search.fit(X_train_tr, y_train)\n",
    "cvres = grid_search.cv_results_"
   ]
  },
  {
   "cell_type": "code",
   "execution_count": 83,
   "metadata": {},
   "outputs": [
    {
     "name": "stdout",
     "output_type": "stream",
     "text": [
      "0.9564324717870821 {'C': 0.01, 'gamma': 'auto', 'kernel': 'rbf'}\n",
      "0.9654117561972825 {'C': 0.1, 'gamma': 'auto', 'kernel': 'rbf'}\n",
      "0.9729372543637685 {'C': 1, 'gamma': 'auto', 'kernel': 'rbf'}\n",
      "0.9734031335943267 {'C': 10, 'gamma': 'auto', 'kernel': 'rbf'}\n",
      "0.971997785138985 {'C': 100, 'gamma': 'auto', 'kernel': 'rbf'}\n"
     ]
    }
   ],
   "source": [
    "for mean_score, params in zip(cvres[\"mean_test_score\"],cvres[\"params\"]):\n",
    "    print(mean_score,params)"
   ]
  },
  {
   "cell_type": "code",
   "execution_count": 84,
   "metadata": {},
   "outputs": [
    {
     "name": "stdout",
     "output_type": "stream",
     "text": [
      "\n",
      "Best parameters\n",
      "{'C': 10, 'gamma': 'auto', 'kernel': 'rbf'}\n",
      "\n",
      "Best estimator\n",
      "SVC(C=10, cache_size=200, class_weight=None, coef0=0.0,\n",
      "    decision_function_shape='ovr', degree=3, gamma='auto', kernel='rbf',\n",
      "    max_iter=-1, probability=False, random_state=None, shrinking=True,\n",
      "    tol=0.001, verbose=False)\n",
      "\n",
      "Best AUC score\n",
      "0.9734031335943267\n"
     ]
    }
   ],
   "source": [
    "print(\"\\nBest parameters\")\n",
    "print(grid_search.best_params_)\n",
    "\n",
    "print(\"\\nBest estimator\")\n",
    "print(grid_search.best_estimator_)\n",
    "\n",
    "print(\"\\nBest AUC score\")\n",
    "print(grid_search.best_score_)"
   ]
  },
  {
   "cell_type": "code",
   "execution_count": 85,
   "metadata": {},
   "outputs": [
    {
     "name": "stdout",
     "output_type": "stream",
     "text": [
      "\n",
      "AUC for test set:  0.9435254097255528\n"
     ]
    }
   ],
   "source": [
    "svc_final_model = grid_search.best_estimator_\n",
    "svc_final_model.fit(X_train_tr, y_train)\n",
    "svc_final_predictions = svc_final_model.predict(X_test_tr)\n",
    "svc_final_auc = roc_auc_score(y_test, svc_final_predictions)\n",
    "print(\"\\nAUC for test set: \", svc_final_auc)"
   ]
  },
  {
   "cell_type": "code",
   "execution_count": 86,
   "metadata": {},
   "outputs": [
    {
     "name": "stdout",
     "output_type": "stream",
     "text": [
      "[0.         0.01986032 1.        ]\n",
      "[0.         0.90691114 1.        ]\n",
      "0.9435254097255528\n",
      "0.9628333333333333\n",
      "0.9202146690518784\n",
      "[[4491   91]\n",
      " [ 132 1286]]\n",
      "[[4491   91]\n",
      " [ 132 1286]]\n",
      "              precision    recall  f1-score   support\n",
      "\n",
      "           0       0.97      0.98      0.98      4582\n",
      "           1       0.93      0.91      0.92      1418\n",
      "\n",
      "    accuracy                           0.96      6000\n",
      "   macro avg       0.95      0.94      0.95      6000\n",
      "weighted avg       0.96      0.96      0.96      6000\n",
      "\n"
     ]
    }
   ],
   "source": [
    "fpr['SVC'], tpr['SVC'], threshold = roc_curve(y_test, svc_final_predictions)\n",
    "roc_auc['SVC'] = roc_auc_score(y_test, svc_final_predictions)\n",
    "accuracy['SVC'] = accuracy_score(y_test, svc_final_predictions)\n",
    "f1['SVC'] = f1_score(y_test, svc_final_predictions)\n",
    "conf_mat['SVC'] = confusion_matrix(y_test, svc_final_predictions)\n",
    "print(fpr['SVC'])\n",
    "print(tpr['SVC'])\n",
    "print(roc_auc['SVC'])\n",
    "print(accuracy['SVC'])\n",
    "print(f1['SVC'])\n",
    "print(conf_mat['SVC'])\n",
    "print(confusion_matrix(y_test,svc_final_predictions))\n",
    "print(classification_report(y_test,svc_final_predictions))"
   ]
  },
  {
   "cell_type": "code",
   "execution_count": 87,
   "metadata": {},
   "outputs": [
    {
     "data": {
      "text/plain": [
       "Text(0.5, 15.0, 'Predicted label')"
      ]
     },
     "execution_count": 87,
     "metadata": {},
     "output_type": "execute_result"
    },
    {
     "data": {
      "image/png": "[encoded data removed]",
      "text/plain": [
       "<Figure size 432x288 with 2 Axes>"
      ]
     },
     "metadata": {
      "needs_background": "light"
     },
     "output_type": "display_data"
    }
   ],
   "source": [
    "sns.heatmap(confusion_matrix(y_test,svc_final_predictions),annot = True, fmt = 'g')\n",
    "plt.ylabel('True label')\n",
    "plt.xlabel('Predicted label')"
   ]
  },
  {
   "cell_type": "markdown",
   "metadata": {},
   "source": [
    "# AdaBoost Classifier"
   ]
  },
  {
   "cell_type": "code",
   "execution_count": 88,
   "metadata": {},
   "outputs": [],
   "source": [
    "from sklearn.ensemble import AdaBoostClassifier"
   ]
  },
  {
   "cell_type": "code",
   "execution_count": 89,
   "metadata": {},
   "outputs": [],
   "source": [
    "abc = AdaBoostClassifier(n_estimators=50, learning_rate=1)\n",
    "abc_model = abc.fit(X_train_tr, y_train)\n",
    "abc_pred = abc_model.predict(X_test_tr)"
   ]
  },
  {
   "cell_type": "code",
   "execution_count": 90,
   "metadata": {},
   "outputs": [
    {
     "name": "stdout",
     "output_type": "stream",
     "text": [
      "[0.         0.03099083 1.        ]\n",
      "[0.         0.83850494 1.        ]\n",
      "0.9037570514166244\n",
      "0.9381666666666667\n",
      "0.8650418333939615\n",
      "[[4440  142]\n",
      " [ 229 1189]]\n",
      "[[4440  142]\n",
      " [ 229 1189]]\n",
      "              precision    recall  f1-score   support\n",
      "\n",
      "           0       0.95      0.97      0.96      4582\n",
      "           1       0.89      0.84      0.87      1418\n",
      "\n",
      "    accuracy                           0.94      6000\n",
      "   macro avg       0.92      0.90      0.91      6000\n",
      "weighted avg       0.94      0.94      0.94      6000\n",
      "\n"
     ]
    }
   ],
   "source": [
    "fpr['AdaBoost'], tpr['AdaBoost'], threshold = roc_curve(y_test, abc_pred)\n",
    "roc_auc['AdaBoost'] = roc_auc_score(y_test, abc_pred)\n",
    "accuracy['AdaBoost'] = accuracy_score(y_test, abc_pred)\n",
    "f1['AdaBoost'] = f1_score(y_test, abc_pred)\n",
    "conf_mat['AdaBoost'] = confusion_matrix(y_test, abc_pred)\n",
    "print(fpr['AdaBoost'])\n",
    "print(tpr['AdaBoost'])\n",
    "print(roc_auc['AdaBoost'])\n",
    "print(accuracy['AdaBoost'])\n",
    "print(f1['AdaBoost'])\n",
    "print(conf_mat['AdaBoost'])\n",
    "print(confusion_matrix(y_test,abc_pred))\n",
    "print(classification_report(y_test,abc_pred))"
   ]
  },
  {
   "cell_type": "code",
   "execution_count": 91,
   "metadata": {},
   "outputs": [
    {
     "data": {
      "text/plain": [
       "Text(0.5, 15.0, 'Predicted label')"
      ]
     },
     "execution_count": 91,
     "metadata": {},
     "output_type": "execute_result"
    },
    {
     "data": {
      "image/png": "[encoded data removed]",
      "text/plain": [
       "<Figure size 432x288 with 2 Axes>"
      ]
     },
     "metadata": {
      "needs_background": "light"
     },
     "output_type": "display_data"
    }
   ],
   "source": [
    "sns.heatmap(confusion_matrix(y_test,abc_pred),annot = True, fmt = 'g')\n",
    "plt.ylabel('True label')\n",
    "plt.xlabel('Predicted label')"
   ]
  },
  {
   "cell_type": "code",
   "execution_count": 92,
   "metadata": {},
   "outputs": [],
   "source": [
    "from sklearn.svm import LinearSVC\n",
    "\n",
    "linearSVC = LinearSVC()"
   ]
  },
  {
   "cell_type": "code",
   "execution_count": 93,
   "metadata": {},
   "outputs": [],
   "source": [
    "# param_grid = {'C': [0.01,0.1,1,10,100]}\n",
    "# grid_search = GridSearchCV(svc, param_grid, cv = 3, scoring = 'roc_auc', n_jobs = -1)\n",
    "# grid_search.fit(X_train_tr, y_train)\n",
    "# cvres = grid_search.cv_results_\n",
    "\n",
    "param_grid = {'C': [0.01,0.1,1,10,100]}\n",
    "grid_search = GridSearchCV(linearSVC, param_grid, cv = 3, scoring = 'roc_auc', n_jobs = -1)\n",
    "grid_search.fit(X_train_pol, y_train_pol)\n",
    "cvres = grid_search.cv_results_"
   ]
  },
  {
   "cell_type": "code",
   "execution_count": 94,
   "metadata": {},
   "outputs": [
    {
     "name": "stdout",
     "output_type": "stream",
     "text": [
      "0.9725503701215886 {'C': 0.01}\n",
      "0.9711157474146319 {'C': 0.1}\n",
      "0.9669540038983526 {'C': 1}\n",
      "0.9638909369871839 {'C': 10}\n",
      "0.9627668591451496 {'C': 100}\n"
     ]
    }
   ],
   "source": [
    "for mean_score, params in zip(cvres[\"mean_test_score\"],cvres[\"params\"]):\n",
    "    print(mean_score,params)"
   ]
  },
  {
   "cell_type": "code",
   "execution_count": 95,
   "metadata": {},
   "outputs": [
    {
     "name": "stdout",
     "output_type": "stream",
     "text": [
      "\n",
      "Best parameters\n",
      "{'C': 0.01}\n",
      "\n",
      "Best estimator\n",
      "LinearSVC(C=0.01, class_weight=None, dual=True, fit_intercept=True,\n",
      "          intercept_scaling=1, loss='squared_hinge', max_iter=1000,\n",
      "          multi_class='ovr', penalty='l2', random_state=None, tol=0.0001,\n",
      "          verbose=0)\n",
      "\n",
      "Best AUC score\n",
      "0.9725503701215886\n"
     ]
    }
   ],
   "source": [
    "print(\"\\nBest parameters\")\n",
    "print(grid_search.best_params_)\n",
    "\n",
    "print(\"\\nBest estimator\")\n",
    "print(grid_search.best_estimator_)\n",
    "\n",
    "print(\"\\nBest AUC score\")\n",
    "print(grid_search.best_score_)"
   ]
  },
  {
   "cell_type": "code",
   "execution_count": 96,
   "metadata": {},
   "outputs": [
    {
     "name": "stdout",
     "output_type": "stream",
     "text": [
      "\n",
      "AUC for test set:  0.9369683541225584\n"
     ]
    }
   ],
   "source": [
    "# linearsvc_final_model = grid_search.best_estimator_\n",
    "# linearsvc_final_model.fit(X_train_tr, y_train)\n",
    "# linearsvc_final_predictions = svc_final_model.predict(X_test_tr)\n",
    "# linearsvc_final_auc = roc_auc_score(y_test, svc_final_predictions)\n",
    "# print(\"\\nAUC for test set: \", svc_final_auc)\n",
    "\n",
    "linearsvc_final_model = grid_search.best_estimator_\n",
    "linearsvc_final_model.fit(X_train_pol, y_train_pol)\n",
    "linearsvc_final_predictions = linearsvc_final_model.predict(X_test_pol)\n",
    "linearsvc_final_auc = roc_auc_score(y_test_pol, linearsvc_final_predictions)\n",
    "print(\"\\nAUC for test set: \", linearsvc_final_auc)"
   ]
  },
  {
   "cell_type": "code",
   "execution_count": 97,
   "metadata": {},
   "outputs": [
    {
     "name": "stdout",
     "output_type": "stream",
     "text": [
      "              precision    recall  f1-score   support\n",
      "\n",
      "           0       0.97      0.98      0.97      4582\n",
      "           1       0.94      0.89      0.92      1418\n",
      "\n",
      "    accuracy                           0.96      6000\n",
      "   macro avg       0.95      0.94      0.94      6000\n",
      "weighted avg       0.96      0.96      0.96      6000\n",
      "\n"
     ]
    }
   ],
   "source": [
    "print(classification_report(y_test_pol,linearsvc_final_predictions))"
   ]
  },
  {
   "cell_type": "markdown",
   "metadata": {},
   "source": [
    "# Evaluation of Models"
   ]
  },
  {
   "cell_type": "markdown",
   "metadata": {},
   "source": [
    "## F1 Score"
   ]
  },
  {
   "cell_type": "code",
   "execution_count": 98,
   "metadata": {},
   "outputs": [
    {
     "data": {
      "image/png": "[encoded data removed]",
      "text/plain": [
       "<Figure size 1152x576 with 1 Axes>"
      ]
     },
     "metadata": {
      "needs_background": "light"
     },
     "output_type": "display_data"
    }
   ],
   "source": [
    "bar_width = 0.4\n",
    "plt.figure(figsize=(16,8))\n",
    "#plt.ylim((0.9,1.0))\n",
    "plt.bar(range(len(f1)),f1.values(),bar_width,align='center')\n",
    "plt.xticks(range(len(f1)), f1.keys())\n",
    "plt.xlabel('Classification Model',fontsize=16)\n",
    "plt.ylabel('F1 Score',fontsize=16)\n",
    "plt.title('Performance of Classifers by F1 Score',fontsize=20)\n",
    "plt.show()"
   ]
  },
  {
   "cell_type": "markdown",
   "metadata": {},
   "source": [
    "## ROC AUC Score"
   ]
  },
  {
   "cell_type": "code",
   "execution_count": 99,
   "metadata": {},
   "outputs": [
    {
     "data": {
      "image/png": "[encoded data removed]",
      "text/plain": [
       "<Figure size 1152x576 with 1 Axes>"
      ]
     },
     "metadata": {
      "needs_background": "light"
     },
     "output_type": "display_data"
    }
   ],
   "source": [
    "bar_width = 0.4\n",
    "plt.figure(figsize=(16,8))\n",
    "#plt.ylim((0.9,1.0))\n",
    "plt.bar(range(len(roc_auc)),roc_auc.values(),bar_width,align='center')\n",
    "plt.xticks(range(len(roc_auc)), roc_auc.keys())\n",
    "plt.xlabel('Classification Model',fontsize=16)\n",
    "plt.ylabel('ROC AUC Score',fontsize=16)\n",
    "plt.title('Performance of Classifers by ROC AUC Score',fontsize=20)\n",
    "plt.show()"
   ]
  },
  {
   "cell_type": "markdown",
   "metadata": {},
   "source": [
    "## Confusion Matrices"
   ]
  },
  {
   "cell_type": "code",
   "execution_count": 100,
   "metadata": {},
   "outputs": [],
   "source": [
    "import itertools\n",
    "def plot_confusion_matrix(cm, classes,\n",
    "                          normalize=False,\n",
    "                          title='Confusion matrix',\n",
    "                          cmap=plt.cm.Blues):\n",
    "    plt.imshow(cm, interpolation='nearest', cmap=cmap)\n",
    "    plt.title('Confusion matrix for ' + title)\n",
    "    tick_marks = np.arange(len(classes))\n",
    "    plt.xticks(tick_marks, classes, rotation=45)\n",
    "    plt.yticks(tick_marks, classes)\n",
    "    if normalize:\n",
    "        cm = cm.astype('float') / cm.sum(axis=1)[:, np.newaxis]\n",
    "    thresh = cm.max() / 2.\n",
    "    for i, j in itertools.product(range(cm.shape[0]), range(cm.shape[1])):\n",
    "        plt.text(j, i, round(cm[i, j],4),\n",
    "                 horizontalalignment=\"center\",\n",
    "                 color=\"white\" if cm[i, j] > thresh else \"black\")\n",
    "\n",
    "    plt.tight_layout();\n",
    "    plt.ylabel('True label');\n",
    "    plt.xlabel('Predicted label')"
   ]
  },
  {
   "cell_type": "code",
   "execution_count": 101,
   "metadata": {},
   "outputs": [
    {
     "data": {
      "image/png": "[encoded data removed]",
      "text/plain": [
       "<Figure size 864x1584 with 9 Axes>"
      ]
     },
     "metadata": {
      "needs_background": "light"
     },
     "output_type": "display_data"
    }
   ],
   "source": [
    "fig = plt.figure(figsize=(12,22))\n",
    "i=1\n",
    "for key,val in conf_mat.items():\n",
    "    plt.subplot(5,2,i);\n",
    "    i+=1\n",
    "    plot_confusion_matrix(val,classes=['Stayed','Left'], normalize=False,title=key)"
   ]
  },
  {
   "cell_type": "markdown",
   "metadata": {},
   "source": [
    "## ROC Curve"
   ]
  },
  {
   "cell_type": "code",
   "execution_count": 102,
   "metadata": {},
   "outputs": [],
   "source": [
    "def plot_roc_curve(cm, normalize=False,\n",
    "                          #title='ROC curve',\n",
    "                       title=key,\n",
    "                          cmap=plt.cm.Blues):\n",
    "    plt.title('ROC for ' + title)\n",
    "    plt.plot(fpr[key], tpr[key], 'b', label = 'AUC = %0.2f' % roc_auc[key])\n",
    "    plt.legend(loc = 'lower right')\n",
    "    plt.plot([0, 1], [0, 1],'r--')\n",
    "    plt.xlim([0, 1])\n",
    "    plt.ylim([0, 1])\n",
    "    plt.ylabel('True Positive Rate')\n",
    "    plt.xlabel('False Positive Rate')\n",
    "    plt.tight_layout();"
   ]
  },
  {
   "cell_type": "code",
   "execution_count": 103,
   "metadata": {},
   "outputs": [
    {
     "data": {
      "image/png": "[encoded data removed]",
      "text/plain": [
       "<Figure size 576x1080 with 9 Axes>"
      ]
     },
     "metadata": {
      "needs_background": "light"
     },
     "output_type": "display_data"
    }
   ],
   "source": [
    "fig = plt.figure(figsize=(8,15))\n",
    "i=1\n",
    "for key,val in roc_auc.items():\n",
    "    plt.subplot(5,2,i);\n",
    "    i+=1\n",
    "    plot_roc_curve(val,normalize=False,\n",
    "                      title = key)"
   ]
  },
  {
   "cell_type": "code",
   "execution_count": null,
   "metadata": {},
   "outputs": [],
   "source": [
    "print(roc_auc)"
   ]
  },
  {
   "cell_type": "code",
   "execution_count": null,
   "metadata": {},
   "outputs": [],
   "source": []
  },
  {
   "cell_type": "code",
   "execution_count": null,
   "metadata": {},
   "outputs": [],
   "source": []
  }
 ],
 "metadata": {
  "kernelspec": {
   "display_name": "Python 3",
   "language": "python",
   "name": "python3"
  },
  "language_info": {
   "codemirror_mode": {
    "name": "ipython",
    "version": 3
   },
   "file_extension": ".py",
   "mimetype": "text/x-python",
   "name": "python",
   "nbconvert_exporter": "python",
   "pygments_lexer": "ipython3",
   "version": "3.6.9"
  }
 },
 "nbformat": 4,
 "nbformat_minor": 2
}
